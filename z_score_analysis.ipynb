{
 "cells": [
  {
   "cell_type": "markdown",
   "id": "0db212fc",
   "metadata": {},
   "source": [
    "DATA2001 Group Assignment <br>\n",
    "Task 1: Import and Clean <br>\n",
    "Package Imports "
   ]
  },
  {
   "cell_type": "code",
   "execution_count": 1,
   "id": "34b0a82b",
   "metadata": {},
   "outputs": [],
   "source": [
    "# package load\n",
    "import pandas as pd\n",
    "import geopandas as gpd\n",
    "from shapely.geometry import Point, Polygon, MultiPolygon\n",
    "from shapely.wkt import loads\n",
    "from geoalchemy2 import Geometry, WKTElement\n",
    "import matplotlib.pyplot as plt\n",
    "import plotly.express as px"
   ]
  },
  {
   "cell_type": "code",
   "execution_count": 2,
   "id": "1b884906",
   "metadata": {},
   "outputs": [],
   "source": [
    "SA2 = gpd.read_file('data/SA2_2021_AUST_SHP_GDA2020/SA2_2021_AUST_GDA2020.shp')\n",
    "future = gpd.read_file('data/catchments/catchments_future.shp')\n",
    "primary = gpd.read_file('data/catchments/catchments_primary.shp')\n",
    "secondary = gpd.read_file('data/catchments/catchments_secondary.shp')\n",
    "sa2 = SA2"
   ]
  },
  {
   "cell_type": "markdown",
   "id": "ec82760f",
   "metadata": {},
   "source": [
    "Load data"
   ]
  },
  {
   "cell_type": "code",
   "execution_count": 3,
   "id": "13e1d54a",
   "metadata": {},
   "outputs": [],
   "source": [
    "businesses = pd.read_csv('data/Businesses.csv')\n",
    "stops = pd.read_csv('data/Stops.txt')\n",
    "polls = pd.read_csv('data/PollingPlaces2019.csv')\n",
    "pops = pd.read_csv('data/Population.csv')\n",
    "income = pd.read_csv('data/Income.csv')\n",
    "\n",
    "# json file - sydney enrolment + school locations\n",
    "enrol = pd.read_json('data/enrolment.json')\n"
   ]
  },
  {
   "cell_type": "markdown",
   "id": "9918554b",
   "metadata": {},
   "source": [
    "SQL Queries"
   ]
  },
  {
   "cell_type": "code",
   "execution_count": 4,
   "id": "80e335ce",
   "metadata": {},
   "outputs": [],
   "source": [
    "from sqlalchemy import create_engine\n",
    "from sqlalchemy import text\n",
    "import psycopg2\n",
    "import psycopg2.extras\n",
    "import json\n",
    "import pandas as pd\n",
    "\n",
    "credentials = \"Credentials.json\"\n",
    "\n",
    "def pgconnect(credential_filepath, db_schema=\"public\"):\n",
    "    with open(credential_filepath) as f:\n",
    "        db_conn_dict = json.load(f)\n",
    "        host       = db_conn_dict['host']\n",
    "        db_user    = db_conn_dict['user']\n",
    "        db_pw      = db_conn_dict['password']\n",
    "        default_db = db_conn_dict['user']\n",
    "        port       = db_conn_dict['port']\n",
    "        try:\n",
    "            db = create_engine(f'postgresql+psycopg2://{db_user}:{db_pw}@{host}:{port}/{default_db}', echo=False)\n",
    "            conn = db.connect()\n",
    "            print('Connected successfully.')\n",
    "        except Exception as e:\n",
    "            print(\"Unable to connect to the database.\")\n",
    "            print(e)\n",
    "            db, conn = None, None\n",
    "        return db,conn\n",
    "\n",
    "def query(conn, sqlcmd, args=None, df=True):\n",
    "    result = pd.DataFrame() if df else None\n",
    "    try:\n",
    "        if df:\n",
    "            result = pd.read_sql_query(sqlcmd, conn, params=args)\n",
    "        else:\n",
    "            result = conn.execute(text(sqlcmd), args).fetchall()\n",
    "            result = result[0] if len(result) == 1 else result\n",
    "    except Exception as e:\n",
    "        print(\"Error encountered: \", e, sep='\\n')\n",
    "    return result"
   ]
  },
  {
   "cell_type": "code",
   "execution_count": 5,
   "id": "1765dc6b",
   "metadata": {},
   "outputs": [
    {
     "name": "stdout",
     "output_type": "stream",
     "text": [
      "Connected successfully.\n"
     ]
    }
   ],
   "source": [
    "db, conn = pgconnect(credentials)"
   ]
  },
  {
   "cell_type": "code",
   "execution_count": 6,
   "id": "10405290",
   "metadata": {},
   "outputs": [
    {
     "data": {
      "text/html": [
       "<div>\n",
       "<style scoped>\n",
       "    .dataframe tbody tr th:only-of-type {\n",
       "        vertical-align: middle;\n",
       "    }\n",
       "\n",
       "    .dataframe tbody tr th {\n",
       "        vertical-align: top;\n",
       "    }\n",
       "\n",
       "    .dataframe thead th {\n",
       "        text-align: right;\n",
       "    }\n",
       "</style>\n",
       "<table border=\"1\" class=\"dataframe\">\n",
       "  <thead>\n",
       "    <tr style=\"text-align: right;\">\n",
       "      <th></th>\n",
       "      <th>postgis_version</th>\n",
       "    </tr>\n",
       "  </thead>\n",
       "  <tbody>\n",
       "    <tr>\n",
       "      <th>0</th>\n",
       "      <td>3.4 USE_GEOS=1 USE_PROJ=1 USE_STATS=1</td>\n",
       "    </tr>\n",
       "  </tbody>\n",
       "</table>\n",
       "</div>"
      ],
      "text/plain": [
       "                         postgis_version\n",
       "0  3.4 USE_GEOS=1 USE_PROJ=1 USE_STATS=1"
      ]
     },
     "execution_count": 6,
     "metadata": {},
     "output_type": "execute_result"
    }
   ],
   "source": [
    "query(conn, \"select PostGIS_Version()\")"
   ]
  },
  {
   "cell_type": "code",
   "execution_count": 7,
   "id": "3b803b9f",
   "metadata": {},
   "outputs": [
    {
     "name": "stderr",
     "output_type": "stream",
     "text": [
      "/opt/anaconda3/envs/myenv/lib/python3.12/site-packages/geopandas/geodataframe.py:1543: SettingWithCopyWarning: \n",
      "A value is trying to be set on a copy of a slice from a DataFrame.\n",
      "Try using .loc[row_indexer,col_indexer] = value instead\n",
      "\n",
      "See the caveats in the documentation: https://pandas.pydata.org/pandas-docs/stable/user_guide/indexing.html#returning-a-view-versus-a-copy\n",
      "  super().__setitem__(key, value)\n"
     ]
    }
   ],
   "source": [
    "srid = 4283\n",
    "\n",
    "# drop row if geometry is None\n",
    "# SA2\n",
    "sa2 = sa2[sa2.geometry.notnull()]\n",
    "# polls\n",
    "polls = polls[polls.the_geom.notnull()]\n",
    "# enrolment\n",
    "enrol = enrol.dropna(subset=['Latitude'])\n",
    "enrol = enrol.dropna(subset=['Longitude'])\n",
    "\n",
    "# convert geometry to WKTElement\n",
    "# polls\n",
    "polls['geom'] = gpd.points_from_xy(polls.longitude, polls.latitude)\n",
    "polls['geom'] = polls['geom'].apply(lambda x: WKTElement(x.wkt, srid=srid))\n",
    "\n",
    "# enrolment\n",
    "enrol['geom'] = gpd.points_from_xy(enrol.Longitude, enrol.Latitude)\n",
    "enrol['geom'] = enrol['geom'].apply(lambda x: WKTElement(x.wkt, srid=srid))\n",
    "\n",
    "# convert polygon to multipolygon\n",
    "def create_wkt_element(geom, srid):\n",
    "    if geom.geom_type == 'Polygon':\n",
    "        geom = MultiPolygon([geom])\n",
    "    return WKTElement(geom.wkt, srid=srid)\n",
    "\n",
    "# convert geometry to WKTElement\n",
    "sa2['geom'] = sa2['geometry'].apply(lambda x: create_wkt_element(x, srid))\n",
    "\n",
    "# drop old geometry column\n",
    "polls = polls.drop('the_geom', axis=1)\n",
    "sa2 = sa2.drop('geometry', axis=1)"
   ]
  },
  {
   "cell_type": "code",
   "execution_count": 8,
   "id": "ac977e30",
   "metadata": {},
   "outputs": [],
   "source": [
    "# subset sa2\n",
    "sa2['sa2_code21'] = sa2['SA2_CODE21']\n",
    "sa2['sa2_name21'] = sa2['SA2_NAME21']\n",
    "sa2 = sa2[['sa2_code21', \n",
    "          'sa2_name21',\n",
    "          'geom']]"
   ]
  },
  {
   "cell_type": "code",
   "execution_count": 9,
   "id": "80880741",
   "metadata": {},
   "outputs": [],
   "source": [
    "# subset polling\n",
    "polls = polls[['polling_place_name',\n",
    "               'premises_name',\n",
    "               'geom']].reset_index(drop=True)"
   ]
  },
  {
   "cell_type": "code",
   "execution_count": 10,
   "id": "90c7d934",
   "metadata": {},
   "outputs": [],
   "source": [
    "# subset enrolment\n",
    "enrol = enrol[['School_code',\n",
    "               'School_name',\n",
    "               'latest_year_enrolment_FTE',\n",
    "               'geom']]\n",
    "\n",
    "# change all variables to lowercase\n",
    "enrol = enrol.rename(columns={'School_code': 'school_code',\n",
    "                              'School_name': 'school_name',\n",
    "                              'latest_year_enrolment_FTE': 'latest_year_enrolment_fte'})\n",
    "\n",
    "# change variable types\n",
    "enrol['school_code'] = enrol['school_code'].astype(int)\n",
    "enrol['school_name'] = enrol['school_name'].astype(str)\n",
    "\n",
    "# drop any value that is not a number from latest_year_enrolment_fte\n",
    "enrol = enrol[enrol['latest_year_enrolment_fte'].str.strip().replace('', pd.NA).notna()]\n",
    "enrol['latest_year_enrolment_fte'] = enrol['latest_year_enrolment_fte'].astype(float)\n",
    "\n",
    "# drop missing values\n",
    "enrol = enrol.dropna(subset=['school_code'])\n",
    "enrol = enrol.dropna(subset=['school_name'])\n",
    "enrol = enrol.dropna(subset=['latest_year_enrolment_fte'])\n",
    "enrol = enrol.reset_index(drop=True)\n"
   ]
  },
  {
   "cell_type": "code",
   "execution_count": 11,
   "id": "aef6960a",
   "metadata": {},
   "outputs": [
    {
     "data": {
      "text/html": [
       "<div>\n",
       "<style scoped>\n",
       "    .dataframe tbody tr th:only-of-type {\n",
       "        vertical-align: middle;\n",
       "    }\n",
       "\n",
       "    .dataframe tbody tr th {\n",
       "        vertical-align: top;\n",
       "    }\n",
       "\n",
       "    .dataframe thead th {\n",
       "        text-align: right;\n",
       "    }\n",
       "</style>\n",
       "<table border=\"1\" class=\"dataframe\">\n",
       "  <thead>\n",
       "    <tr style=\"text-align: right;\">\n",
       "      <th></th>\n",
       "      <th>school_code</th>\n",
       "      <th>school_name</th>\n",
       "      <th>latest_year_enrolment_fte</th>\n",
       "      <th>geom</th>\n",
       "    </tr>\n",
       "  </thead>\n",
       "  <tbody>\n",
       "    <tr>\n",
       "      <th>0</th>\n",
       "      <td>8473</td>\n",
       "      <td>Chifley College Senior Campus</td>\n",
       "      <td>471.0</td>\n",
       "      <td>POINT (150.829855 -33.769305)</td>\n",
       "    </tr>\n",
       "    <tr>\n",
       "      <th>1</th>\n",
       "      <td>8325</td>\n",
       "      <td>Moree Secondary College</td>\n",
       "      <td>389.0</td>\n",
       "      <td>POINT (149.842344 -29.46645)</td>\n",
       "    </tr>\n",
       "    <tr>\n",
       "      <th>2</th>\n",
       "      <td>8870</td>\n",
       "      <td>St Marys Senior High School</td>\n",
       "      <td>874.4</td>\n",
       "      <td>POINT (150.770024 -33.763119)</td>\n",
       "    </tr>\n",
       "    <tr>\n",
       "      <th>3</th>\n",
       "      <td>8374</td>\n",
       "      <td>Brisbane Water Secondary College Woy Woy Campus</td>\n",
       "      <td>663.4</td>\n",
       "      <td>POINT (151.323582 -33.492687)</td>\n",
       "    </tr>\n",
       "    <tr>\n",
       "      <th>4</th>\n",
       "      <td>8539</td>\n",
       "      <td>Sydney Secondary College Blackwattle Bay Campus</td>\n",
       "      <td>777.2</td>\n",
       "      <td>POINT (151.188357 -33.875142)</td>\n",
       "    </tr>\n",
       "    <tr>\n",
       "      <th>...</th>\n",
       "      <td>...</td>\n",
       "      <td>...</td>\n",
       "      <td>...</td>\n",
       "      <td>...</td>\n",
       "    </tr>\n",
       "    <tr>\n",
       "      <th>2165</th>\n",
       "      <td>4678</td>\n",
       "      <td>Ngarala Public School</td>\n",
       "      <td>168.0</td>\n",
       "      <td>POINT (151.069192 -33.78106)</td>\n",
       "    </tr>\n",
       "    <tr>\n",
       "      <th>2166</th>\n",
       "      <td>4682</td>\n",
       "      <td>Gregory Hills Public School</td>\n",
       "      <td>233.0</td>\n",
       "      <td>POINT (150.78 -34.025)</td>\n",
       "    </tr>\n",
       "    <tr>\n",
       "      <th>2167</th>\n",
       "      <td>4683</td>\n",
       "      <td>Murrumbateman Public School</td>\n",
       "      <td>107.0</td>\n",
       "      <td>POINT (149.030288 -34.9664751)</td>\n",
       "    </tr>\n",
       "    <tr>\n",
       "      <th>2168</th>\n",
       "      <td>4690</td>\n",
       "      <td>Jindabyne Public School</td>\n",
       "      <td>285.0</td>\n",
       "      <td>POINT (148.618556 -36.416783)</td>\n",
       "    </tr>\n",
       "    <tr>\n",
       "      <th>2169</th>\n",
       "      <td>8924</td>\n",
       "      <td>Jindabyne High School</td>\n",
       "      <td>299.0</td>\n",
       "      <td>POINT (148.619318 -36.416671)</td>\n",
       "    </tr>\n",
       "  </tbody>\n",
       "</table>\n",
       "<p>2170 rows × 4 columns</p>\n",
       "</div>"
      ],
      "text/plain": [
       "      school_code                                      school_name  \\\n",
       "0            8473                    Chifley College Senior Campus   \n",
       "1            8325                          Moree Secondary College   \n",
       "2            8870                      St Marys Senior High School   \n",
       "3            8374  Brisbane Water Secondary College Woy Woy Campus   \n",
       "4            8539  Sydney Secondary College Blackwattle Bay Campus   \n",
       "...           ...                                              ...   \n",
       "2165         4678                            Ngarala Public School   \n",
       "2166         4682                      Gregory Hills Public School   \n",
       "2167         4683                      Murrumbateman Public School   \n",
       "2168         4690                          Jindabyne Public School   \n",
       "2169         8924                            Jindabyne High School   \n",
       "\n",
       "      latest_year_enrolment_fte                            geom  \n",
       "0                         471.0   POINT (150.829855 -33.769305)  \n",
       "1                         389.0    POINT (149.842344 -29.46645)  \n",
       "2                         874.4   POINT (150.770024 -33.763119)  \n",
       "3                         663.4   POINT (151.323582 -33.492687)  \n",
       "4                         777.2   POINT (151.188357 -33.875142)  \n",
       "...                         ...                             ...  \n",
       "2165                      168.0    POINT (151.069192 -33.78106)  \n",
       "2166                      233.0          POINT (150.78 -34.025)  \n",
       "2167                      107.0  POINT (149.030288 -34.9664751)  \n",
       "2168                      285.0   POINT (148.618556 -36.416783)  \n",
       "2169                      299.0   POINT (148.619318 -36.416671)  \n",
       "\n",
       "[2170 rows x 4 columns]"
      ]
     },
     "execution_count": 11,
     "metadata": {},
     "output_type": "execute_result"
    }
   ],
   "source": [
    "enrol"
   ]
  },
  {
   "cell_type": "code",
   "execution_count": 12,
   "id": "aad5939e",
   "metadata": {},
   "outputs": [
    {
     "name": "stdout",
     "output_type": "stream",
     "text": [
      "Error encountered: \n",
      "This result object does not return rows. It has been closed automatically.\n"
     ]
    },
    {
     "data": {
      "text/html": [
       "<div>\n",
       "<style scoped>\n",
       "    .dataframe tbody tr th:only-of-type {\n",
       "        vertical-align: middle;\n",
       "    }\n",
       "\n",
       "    .dataframe tbody tr th {\n",
       "        vertical-align: top;\n",
       "    }\n",
       "\n",
       "    .dataframe thead th {\n",
       "        text-align: right;\n",
       "    }\n",
       "</style>\n",
       "<table border=\"1\" class=\"dataframe\">\n",
       "  <thead>\n",
       "    <tr style=\"text-align: right;\">\n",
       "      <th></th>\n",
       "    </tr>\n",
       "  </thead>\n",
       "  <tbody>\n",
       "  </tbody>\n",
       "</table>\n",
       "</div>"
      ],
      "text/plain": [
       "Empty DataFrame\n",
       "Columns: []\n",
       "Index: []"
      ]
     },
     "execution_count": 12,
     "metadata": {},
     "output_type": "execute_result"
    }
   ],
   "source": [
    "# create schema SA2\n",
    "sql = \"\"\"\n",
    "DROP TABLE IF EXISTS sa2;\n",
    "CREATE TABLE sa2 (\n",
    "    sa2_code21 VARCHAR(20),\n",
    "    sa2_name21 VARCHAR(150),\n",
    "    geom GEOMETRY(MULTIPOLYGON, 4283)\n",
    ");\n",
    "\"\"\"\n",
    "\n",
    "query(conn, sql)"
   ]
  },
  {
   "cell_type": "code",
   "execution_count": 13,
   "id": "a0707367",
   "metadata": {},
   "outputs": [
    {
     "name": "stdout",
     "output_type": "stream",
     "text": [
      "Error encountered: \n",
      "This result object does not return rows. It has been closed automatically.\n"
     ]
    },
    {
     "data": {
      "text/html": [
       "<div>\n",
       "<style scoped>\n",
       "    .dataframe tbody tr th:only-of-type {\n",
       "        vertical-align: middle;\n",
       "    }\n",
       "\n",
       "    .dataframe tbody tr th {\n",
       "        vertical-align: top;\n",
       "    }\n",
       "\n",
       "    .dataframe thead th {\n",
       "        text-align: right;\n",
       "    }\n",
       "</style>\n",
       "<table border=\"1\" class=\"dataframe\">\n",
       "  <thead>\n",
       "    <tr style=\"text-align: right;\">\n",
       "      <th></th>\n",
       "    </tr>\n",
       "  </thead>\n",
       "  <tbody>\n",
       "  </tbody>\n",
       "</table>\n",
       "</div>"
      ],
      "text/plain": [
       "Empty DataFrame\n",
       "Columns: []\n",
       "Index: []"
      ]
     },
     "execution_count": 13,
     "metadata": {},
     "output_type": "execute_result"
    }
   ],
   "source": [
    "# create schema polling\n",
    "sql = \"\"\"\n",
    "DROP TABLE IF EXISTS polls;\n",
    "CREATE TABLE polls (\n",
    "    polling_place_name VARCHAR(50),\n",
    "    premises_name VARCHAR,\n",
    "    latitude FLOAT,\n",
    "    longitude FLOAT,\n",
    "    geom GEOMETRY(POINT, 4283)\n",
    ");\n",
    "\"\"\"\n",
    "\n",
    "query(conn, sql)"
   ]
  },
  {
   "cell_type": "code",
   "execution_count": 14,
   "id": "faadc7e4",
   "metadata": {},
   "outputs": [
    {
     "name": "stdout",
     "output_type": "stream",
     "text": [
      "Error encountered: \n",
      "This result object does not return rows. It has been closed automatically.\n"
     ]
    },
    {
     "data": {
      "text/html": [
       "<div>\n",
       "<style scoped>\n",
       "    .dataframe tbody tr th:only-of-type {\n",
       "        vertical-align: middle;\n",
       "    }\n",
       "\n",
       "    .dataframe tbody tr th {\n",
       "        vertical-align: top;\n",
       "    }\n",
       "\n",
       "    .dataframe thead th {\n",
       "        text-align: right;\n",
       "    }\n",
       "</style>\n",
       "<table border=\"1\" class=\"dataframe\">\n",
       "  <thead>\n",
       "    <tr style=\"text-align: right;\">\n",
       "      <th></th>\n",
       "    </tr>\n",
       "  </thead>\n",
       "  <tbody>\n",
       "  </tbody>\n",
       "</table>\n",
       "</div>"
      ],
      "text/plain": [
       "Empty DataFrame\n",
       "Columns: []\n",
       "Index: []"
      ]
     },
     "execution_count": 14,
     "metadata": {},
     "output_type": "execute_result"
    }
   ],
   "source": [
    "# create schema enrolment\n",
    "# create schema enrol\n",
    "sql = \"\"\"\n",
    "DROP TABLE IF EXISTS enrol;\n",
    "CREATE TABLE enrol (\n",
    "    school_code INTEGER,\n",
    "    school_name VARCHAR,\n",
    "    latest_year_enrolment_fte FLOAT,\n",
    "    geom GEOMETRY(Point, 4283)\n",
    ");\n",
    "\"\"\"\n",
    "\n",
    "query(conn, sql)\n"
   ]
  },
  {
   "cell_type": "code",
   "execution_count": 15,
   "id": "40461839",
   "metadata": {},
   "outputs": [
    {
     "data": {
      "text/plain": [
       "170"
      ]
     },
     "execution_count": 15,
     "metadata": {},
     "output_type": "execute_result"
    }
   ],
   "source": [
    "# SA2 input\n",
    "sa2.to_sql('sa2', conn, if_exists='append', index=False, \n",
    "           dtype={'geom': Geometry('MULTIPOLYGON', srid)})\n",
    "\n",
    "# polls nput \n",
    "polls.to_sql('polls', conn, if_exists='append', index=False, \n",
    "             dtype={'geom': Geometry('POINT', srid)})\n",
    "\n",
    "# enrolment input\n",
    "enrol.to_sql('enrol', conn, if_exists='append', index=False, \n",
    "             dtype={'geom': Geometry('POINT', srid)})"
   ]
  },
  {
   "cell_type": "code",
   "execution_count": 16,
   "id": "1d2be1d5",
   "metadata": {},
   "outputs": [
    {
     "data": {
      "text/html": [
       "<div>\n",
       "<style scoped>\n",
       "    .dataframe tbody tr th:only-of-type {\n",
       "        vertical-align: middle;\n",
       "    }\n",
       "\n",
       "    .dataframe tbody tr th {\n",
       "        vertical-align: top;\n",
       "    }\n",
       "\n",
       "    .dataframe thead th {\n",
       "        text-align: right;\n",
       "    }\n",
       "</style>\n",
       "<table border=\"1\" class=\"dataframe\">\n",
       "  <thead>\n",
       "    <tr style=\"text-align: right;\">\n",
       "      <th></th>\n",
       "      <th>school_code</th>\n",
       "      <th>school_name</th>\n",
       "      <th>latest_year_enrolment_fte</th>\n",
       "      <th>geom</th>\n",
       "    </tr>\n",
       "  </thead>\n",
       "  <tbody>\n",
       "    <tr>\n",
       "      <th>0</th>\n",
       "      <td>8473</td>\n",
       "      <td>Chifley College Senior Campus</td>\n",
       "      <td>471.0</td>\n",
       "      <td>0101000020BB10000082AD122C8EDA62401CD3139678E2...</td>\n",
       "    </tr>\n",
       "    <tr>\n",
       "      <th>1</th>\n",
       "      <td>8325</td>\n",
       "      <td>Moree Secondary College</td>\n",
       "      <td>389.0</td>\n",
       "      <td>0101000020BB1000006B7F677BF4BA62401D3867446977...</td>\n",
       "    </tr>\n",
       "    <tr>\n",
       "      <th>2</th>\n",
       "      <td>8870</td>\n",
       "      <td>St Marys Senior High School</td>\n",
       "      <td>874.4</td>\n",
       "      <td>0101000020BB10000053245F09A4D8624066FA25E2ADE1...</td>\n",
       "    </tr>\n",
       "    <tr>\n",
       "      <th>3</th>\n",
       "      <td>8374</td>\n",
       "      <td>Brisbane Water Secondary College Woy Woy Campus</td>\n",
       "      <td>663.4</td>\n",
       "      <td>0101000020BB1000006072A3C85AEA624009151C5E10BF...</td>\n",
       "    </tr>\n",
       "    <tr>\n",
       "      <th>4</th>\n",
       "      <td>8539</td>\n",
       "      <td>Sydney Secondary College Blackwattle Bay Campus</td>\n",
       "      <td>777.2</td>\n",
       "      <td>0101000020BB100000205F420507E6624092AD2EA704F0...</td>\n",
       "    </tr>\n",
       "    <tr>\n",
       "      <th>...</th>\n",
       "      <td>...</td>\n",
       "      <td>...</td>\n",
       "      <td>...</td>\n",
       "      <td>...</td>\n",
       "    </tr>\n",
       "    <tr>\n",
       "      <th>2165</th>\n",
       "      <td>4678</td>\n",
       "      <td>Ngarala Public School</td>\n",
       "      <td>168.0</td>\n",
       "      <td>0101000020BB100000A22424D236E262405C1B2AC6F9E3...</td>\n",
       "    </tr>\n",
       "    <tr>\n",
       "      <th>2166</th>\n",
       "      <td>4682</td>\n",
       "      <td>Gregory Hills Public School</td>\n",
       "      <td>233.0</td>\n",
       "      <td>0101000020BB100000295C8FC2F5D86240333333333303...</td>\n",
       "    </tr>\n",
       "    <tr>\n",
       "      <th>2167</th>\n",
       "      <td>4683</td>\n",
       "      <td>Murrumbateman Public School</td>\n",
       "      <td>107.0</td>\n",
       "      <td>0101000020BB100000C32E8A1EF8A06240FC72C174B57B...</td>\n",
       "    </tr>\n",
       "    <tr>\n",
       "      <th>2168</th>\n",
       "      <td>4690</td>\n",
       "      <td>Jindabyne Public School</td>\n",
       "      <td>285.0</td>\n",
       "      <td>0101000020BB100000D4D7F335CB936240AF4335255935...</td>\n",
       "    </tr>\n",
       "    <tr>\n",
       "      <th>2169</th>\n",
       "      <td>8924</td>\n",
       "      <td>Jindabyne High School</td>\n",
       "      <td>299.0</td>\n",
       "      <td>0101000020BB1000005F7AFB73D19362408718AF795535...</td>\n",
       "    </tr>\n",
       "  </tbody>\n",
       "</table>\n",
       "<p>2170 rows × 4 columns</p>\n",
       "</div>"
      ],
      "text/plain": [
       "      school_code                                      school_name  \\\n",
       "0            8473                    Chifley College Senior Campus   \n",
       "1            8325                          Moree Secondary College   \n",
       "2            8870                      St Marys Senior High School   \n",
       "3            8374  Brisbane Water Secondary College Woy Woy Campus   \n",
       "4            8539  Sydney Secondary College Blackwattle Bay Campus   \n",
       "...           ...                                              ...   \n",
       "2165         4678                            Ngarala Public School   \n",
       "2166         4682                      Gregory Hills Public School   \n",
       "2167         4683                      Murrumbateman Public School   \n",
       "2168         4690                          Jindabyne Public School   \n",
       "2169         8924                            Jindabyne High School   \n",
       "\n",
       "      latest_year_enrolment_fte  \\\n",
       "0                         471.0   \n",
       "1                         389.0   \n",
       "2                         874.4   \n",
       "3                         663.4   \n",
       "4                         777.2   \n",
       "...                         ...   \n",
       "2165                      168.0   \n",
       "2166                      233.0   \n",
       "2167                      107.0   \n",
       "2168                      285.0   \n",
       "2169                      299.0   \n",
       "\n",
       "                                                   geom  \n",
       "0     0101000020BB10000082AD122C8EDA62401CD3139678E2...  \n",
       "1     0101000020BB1000006B7F677BF4BA62401D3867446977...  \n",
       "2     0101000020BB10000053245F09A4D8624066FA25E2ADE1...  \n",
       "3     0101000020BB1000006072A3C85AEA624009151C5E10BF...  \n",
       "4     0101000020BB100000205F420507E6624092AD2EA704F0...  \n",
       "...                                                 ...  \n",
       "2165  0101000020BB100000A22424D236E262405C1B2AC6F9E3...  \n",
       "2166  0101000020BB100000295C8FC2F5D86240333333333303...  \n",
       "2167  0101000020BB100000C32E8A1EF8A06240FC72C174B57B...  \n",
       "2168  0101000020BB100000D4D7F335CB936240AF4335255935...  \n",
       "2169  0101000020BB1000005F7AFB73D19362408718AF795535...  \n",
       "\n",
       "[2170 rows x 4 columns]"
      ]
     },
     "execution_count": 16,
     "metadata": {},
     "output_type": "execute_result"
    }
   ],
   "source": [
    "sql = \"\"\"\n",
    "select * from enrol\n",
    "\"\"\"\n",
    "\n",
    "query(conn, sql)"
   ]
  },
  {
   "cell_type": "code",
   "execution_count": 17,
   "id": "6cb56178",
   "metadata": {},
   "outputs": [
    {
     "data": {
      "text/html": [
       "<div>\n",
       "<style scoped>\n",
       "    .dataframe tbody tr th:only-of-type {\n",
       "        vertical-align: middle;\n",
       "    }\n",
       "\n",
       "    .dataframe tbody tr th {\n",
       "        vertical-align: top;\n",
       "    }\n",
       "\n",
       "    .dataframe thead th {\n",
       "        text-align: right;\n",
       "    }\n",
       "</style>\n",
       "<table border=\"1\" class=\"dataframe\">\n",
       "  <thead>\n",
       "    <tr style=\"text-align: right;\">\n",
       "      <th></th>\n",
       "      <th>sa2_code21</th>\n",
       "      <th>sa2_name21</th>\n",
       "      <th>school_count</th>\n",
       "      <th>total_enrolment</th>\n",
       "    </tr>\n",
       "  </thead>\n",
       "  <tbody>\n",
       "    <tr>\n",
       "      <th>0</th>\n",
       "      <td>112021249</td>\n",
       "      <td>Lismore Surrounds</td>\n",
       "      <td>17</td>\n",
       "      <td>999.2</td>\n",
       "    </tr>\n",
       "    <tr>\n",
       "      <th>1</th>\n",
       "      <td>113031271</td>\n",
       "      <td>Wagga Wagga Surrounds</td>\n",
       "      <td>13</td>\n",
       "      <td>967.2</td>\n",
       "    </tr>\n",
       "    <tr>\n",
       "      <th>2</th>\n",
       "      <td>110041205</td>\n",
       "      <td>Tamworth Surrounds</td>\n",
       "      <td>13</td>\n",
       "      <td>1043.2</td>\n",
       "    </tr>\n",
       "    <tr>\n",
       "      <th>3</th>\n",
       "      <td>103041079</td>\n",
       "      <td>Orange Surrounds</td>\n",
       "      <td>12</td>\n",
       "      <td>1123.0</td>\n",
       "    </tr>\n",
       "    <tr>\n",
       "      <th>4</th>\n",
       "      <td>113011257</td>\n",
       "      <td>Griffith Surrounds</td>\n",
       "      <td>12</td>\n",
       "      <td>1096.0</td>\n",
       "    </tr>\n",
       "    <tr>\n",
       "      <th>...</th>\n",
       "      <td>...</td>\n",
       "      <td>...</td>\n",
       "      <td>...</td>\n",
       "      <td>...</td>\n",
       "    </tr>\n",
       "    <tr>\n",
       "      <th>2449</th>\n",
       "      <td>302011026</td>\n",
       "      <td>McDowall</td>\n",
       "      <td>0</td>\n",
       "      <td>NaN</td>\n",
       "    </tr>\n",
       "    <tr>\n",
       "      <th>2450</th>\n",
       "      <td>302021027</td>\n",
       "      <td>Aspley</td>\n",
       "      <td>0</td>\n",
       "      <td>NaN</td>\n",
       "    </tr>\n",
       "    <tr>\n",
       "      <th>2451</th>\n",
       "      <td>302021028</td>\n",
       "      <td>Chermside</td>\n",
       "      <td>0</td>\n",
       "      <td>NaN</td>\n",
       "    </tr>\n",
       "    <tr>\n",
       "      <th>2452</th>\n",
       "      <td>302021029</td>\n",
       "      <td>Chermside West</td>\n",
       "      <td>0</td>\n",
       "      <td>NaN</td>\n",
       "    </tr>\n",
       "    <tr>\n",
       "      <th>2453</th>\n",
       "      <td>302021030</td>\n",
       "      <td>Geebung</td>\n",
       "      <td>0</td>\n",
       "      <td>NaN</td>\n",
       "    </tr>\n",
       "  </tbody>\n",
       "</table>\n",
       "<p>2454 rows × 4 columns</p>\n",
       "</div>"
      ],
      "text/plain": [
       "     sa2_code21             sa2_name21  school_count  total_enrolment\n",
       "0     112021249      Lismore Surrounds            17            999.2\n",
       "1     113031271  Wagga Wagga Surrounds            13            967.2\n",
       "2     110041205     Tamworth Surrounds            13           1043.2\n",
       "3     103041079       Orange Surrounds            12           1123.0\n",
       "4     113011257     Griffith Surrounds            12           1096.0\n",
       "...         ...                    ...           ...              ...\n",
       "2449  302011026               McDowall             0              NaN\n",
       "2450  302021027                 Aspley             0              NaN\n",
       "2451  302021028              Chermside             0              NaN\n",
       "2452  302021029         Chermside West             0              NaN\n",
       "2453  302021030                Geebung             0              NaN\n",
       "\n",
       "[2454 rows x 4 columns]"
      ]
     },
     "execution_count": 17,
     "metadata": {},
     "output_type": "execute_result"
    }
   ],
   "source": [
    "sql = \"\"\"\n",
    "select sa2.sa2_code21, \n",
    "sa2.sa2_name21, \n",
    "count(enrol.school_name) as school_count, \n",
    "sum(enrol.latest_year_enrolment_fte) as total_enrolment\n",
    "from sa2 \n",
    "left join enrol on ST_Intersects(enrol.geom, sa2.geom)\n",
    "group by sa2.sa2_code21, sa2.sa2_name21\n",
    "order by school_count desc;\n",
    "\"\"\"\n",
    "\n",
    "query(conn, sql)"
   ]
  },
  {
   "cell_type": "code",
   "execution_count": 18,
   "id": "30963dc6",
   "metadata": {},
   "outputs": [
    {
     "data": {
      "text/html": [
       "<div>\n",
       "<style scoped>\n",
       "    .dataframe tbody tr th:only-of-type {\n",
       "        vertical-align: middle;\n",
       "    }\n",
       "\n",
       "    .dataframe tbody tr th {\n",
       "        vertical-align: top;\n",
       "    }\n",
       "\n",
       "    .dataframe thead th {\n",
       "        text-align: right;\n",
       "    }\n",
       "</style>\n",
       "<table border=\"1\" class=\"dataframe\">\n",
       "  <thead>\n",
       "    <tr style=\"text-align: right;\">\n",
       "      <th></th>\n",
       "      <th>sa2_code21</th>\n",
       "      <th>sa2_name21</th>\n",
       "      <th>school_count_zscore</th>\n",
       "      <th>total_enrolment_zscore</th>\n",
       "    </tr>\n",
       "  </thead>\n",
       "  <tbody>\n",
       "    <tr>\n",
       "      <th>0</th>\n",
       "      <td>112021249</td>\n",
       "      <td>Lismore Surrounds</td>\n",
       "      <td>5.840034</td>\n",
       "      <td>-0.344630</td>\n",
       "    </tr>\n",
       "    <tr>\n",
       "      <th>1</th>\n",
       "      <td>113031271</td>\n",
       "      <td>Wagga Wagga Surrounds</td>\n",
       "      <td>4.092990</td>\n",
       "      <td>-0.379844</td>\n",
       "    </tr>\n",
       "    <tr>\n",
       "      <th>2</th>\n",
       "      <td>110041205</td>\n",
       "      <td>Tamworth Surrounds</td>\n",
       "      <td>4.092990</td>\n",
       "      <td>-0.296212</td>\n",
       "    </tr>\n",
       "    <tr>\n",
       "      <th>3</th>\n",
       "      <td>101051540</td>\n",
       "      <td>Goulburn Surrounds</td>\n",
       "      <td>3.656229</td>\n",
       "      <td>-0.679820</td>\n",
       "    </tr>\n",
       "    <tr>\n",
       "      <th>4</th>\n",
       "      <td>113011257</td>\n",
       "      <td>Griffith Surrounds</td>\n",
       "      <td>3.656229</td>\n",
       "      <td>-0.238109</td>\n",
       "    </tr>\n",
       "    <tr>\n",
       "      <th>...</th>\n",
       "      <td>...</td>\n",
       "      <td>...</td>\n",
       "      <td>...</td>\n",
       "      <td>...</td>\n",
       "    </tr>\n",
       "    <tr>\n",
       "      <th>593</th>\n",
       "      <td>119021660</td>\n",
       "      <td>Campsie - South</td>\n",
       "      <td>-1.148141</td>\n",
       "      <td>-0.786121</td>\n",
       "    </tr>\n",
       "    <tr>\n",
       "      <th>594</th>\n",
       "      <td>124041468</td>\n",
       "      <td>Yarramundi - Londonderry</td>\n",
       "      <td>-1.148141</td>\n",
       "      <td>-1.215287</td>\n",
       "    </tr>\n",
       "    <tr>\n",
       "      <th>595</th>\n",
       "      <td>102011038</td>\n",
       "      <td>Saratoga - Davistown</td>\n",
       "      <td>-1.148141</td>\n",
       "      <td>-1.019411</td>\n",
       "    </tr>\n",
       "    <tr>\n",
       "      <th>596</th>\n",
       "      <td>119011655</td>\n",
       "      <td>Greenacre - North</td>\n",
       "      <td>-1.148141</td>\n",
       "      <td>-1.010607</td>\n",
       "    </tr>\n",
       "    <tr>\n",
       "      <th>597</th>\n",
       "      <td>118021654</td>\n",
       "      <td>South Coogee</td>\n",
       "      <td>-1.148141</td>\n",
       "      <td>-0.948984</td>\n",
       "    </tr>\n",
       "  </tbody>\n",
       "</table>\n",
       "<p>598 rows × 4 columns</p>\n",
       "</div>"
      ],
      "text/plain": [
       "    sa2_code21                sa2_name21  school_count_zscore  \\\n",
       "0    112021249         Lismore Surrounds             5.840034   \n",
       "1    113031271     Wagga Wagga Surrounds             4.092990   \n",
       "2    110041205        Tamworth Surrounds             4.092990   \n",
       "3    101051540        Goulburn Surrounds             3.656229   \n",
       "4    113011257        Griffith Surrounds             3.656229   \n",
       "..         ...                       ...                  ...   \n",
       "593  119021660           Campsie - South            -1.148141   \n",
       "594  124041468  Yarramundi - Londonderry            -1.148141   \n",
       "595  102011038      Saratoga - Davistown            -1.148141   \n",
       "596  119011655         Greenacre - North            -1.148141   \n",
       "597  118021654              South Coogee            -1.148141   \n",
       "\n",
       "     total_enrolment_zscore  \n",
       "0                 -0.344630  \n",
       "1                 -0.379844  \n",
       "2                 -0.296212  \n",
       "3                 -0.679820  \n",
       "4                 -0.238109  \n",
       "..                      ...  \n",
       "593               -0.786121  \n",
       "594               -1.215287  \n",
       "595               -1.019411  \n",
       "596               -1.010607  \n",
       "597               -0.948984  \n",
       "\n",
       "[598 rows x 4 columns]"
      ]
     },
     "execution_count": 18,
     "metadata": {},
     "output_type": "execute_result"
    }
   ],
   "source": [
    "# calculate z scores \n",
    "sql = \"\"\"\n",
    "WITH counts AS (\n",
    "    SELECT \n",
    "        sa2.sa2_code21, \n",
    "        sa2.sa2_name21, \n",
    "        COUNT(enrol.school_name) AS school_count, \n",
    "        SUM(enrol.latest_year_enrolment_fte) AS total_enrolment\n",
    "    FROM \n",
    "        sa2 \n",
    "    LEFT JOIN \n",
    "        enrol ON ST_Intersects(enrol.geom, sa2.geom)\n",
    "    GROUP BY \n",
    "        sa2.sa2_code21, sa2.sa2_name21\n",
    "),\n",
    "non_zero_counts AS (\n",
    "    SELECT \n",
    "        sa2_code21, \n",
    "        sa2_name21, \n",
    "        school_count,\n",
    "        total_enrolment\n",
    "    FROM \n",
    "        counts\n",
    "    WHERE \n",
    "        school_count > 0 AND total_enrolment > 0\n",
    "),\n",
    "z_scores AS (\n",
    "    SELECT \n",
    "        sa2_code21, \n",
    "        sa2_name21, \n",
    "        school_count,\n",
    "        total_enrolment,\n",
    "        (school_count - AVG(school_count) OVER ()) / NULLIF(STDDEV(school_count) OVER (), 0) AS school_count_zscore,\n",
    "        (total_enrolment - AVG(total_enrolment) OVER ()) / NULLIF(STDDEV(total_enrolment) OVER (), 0) AS total_enrolment_zscore\n",
    "    FROM \n",
    "        non_zero_counts\n",
    ")\n",
    "SELECT \n",
    "    sa2_code21, \n",
    "    sa2_name21, \n",
    "    school_count_zscore,\n",
    "    total_enrolment_zscore\n",
    "FROM \n",
    "    z_scores\n",
    "ORDER BY \n",
    "    school_count_zscore DESC;\n",
    "\"\"\"\n",
    "\n",
    "query(conn, sql)"
   ]
  },
  {
   "cell_type": "markdown",
   "id": "e0e5f4d7",
   "metadata": {},
   "source": [
    "# Analysis"
   ]
  },
  {
   "cell_type": "markdown",
   "id": "5b7f315b",
   "metadata": {},
   "source": [
    "## Numerical Analysis"
   ]
  },
  {
   "cell_type": "code",
   "execution_count": null,
   "id": "58fd8b45",
   "metadata": {},
   "outputs": [],
   "source": [
    "# read in sigmoid function\n",
    "sig = pd.read_csv('sydney_demographics/fullquery_sig.csv')"
   ]
  },
  {
   "cell_type": "code",
   "execution_count": 48,
   "id": "d9e99c94",
   "metadata": {},
   "outputs": [
    {
     "data": {
      "text/html": [
       "<div>\n",
       "<style scoped>\n",
       "    .dataframe tbody tr th:only-of-type {\n",
       "        vertical-align: middle;\n",
       "    }\n",
       "\n",
       "    .dataframe tbody tr th {\n",
       "        vertical-align: top;\n",
       "    }\n",
       "\n",
       "    .dataframe thead th {\n",
       "        text-align: right;\n",
       "    }\n",
       "</style>\n",
       "<table border=\"1\" class=\"dataframe\">\n",
       "  <thead>\n",
       "    <tr style=\"text-align: right;\">\n",
       "      <th></th>\n",
       "      <th>sa2_code21</th>\n",
       "      <th>sa2_name21</th>\n",
       "      <th>stop_count_zscore</th>\n",
       "      <th>school_area_1000_zscore</th>\n",
       "      <th>polling_count_zscore</th>\n",
       "      <th>total_businesses_zscore</th>\n",
       "      <th>total_median_zscore</th>\n",
       "      <th>school_enrollment_count_zscore</th>\n",
       "      <th>incidents_count_zscore</th>\n",
       "      <th>final_score_zsum</th>\n",
       "      <th>distance_to_cbd_km</th>\n",
       "      <th>east_west</th>\n",
       "    </tr>\n",
       "  </thead>\n",
       "  <tbody>\n",
       "    <tr>\n",
       "      <th>183</th>\n",
       "      <td>119041382</td>\n",
       "      <td>Sans Souci - Ramsgate</td>\n",
       "      <td>0.273544</td>\n",
       "      <td>-0.117748</td>\n",
       "      <td>-0.016912</td>\n",
       "      <td>0.315966</td>\n",
       "      <td>0.0</td>\n",
       "      <td>-0.489561</td>\n",
       "      <td>-0.058122</td>\n",
       "      <td>0.476808</td>\n",
       "      <td>13.129215</td>\n",
       "      <td>West</td>\n",
       "    </tr>\n",
       "  </tbody>\n",
       "</table>\n",
       "</div>"
      ],
      "text/plain": [
       "     sa2_code21             sa2_name21  stop_count_zscore  \\\n",
       "183   119041382  Sans Souci - Ramsgate           0.273544   \n",
       "\n",
       "     school_area_1000_zscore  polling_count_zscore  total_businesses_zscore  \\\n",
       "183                -0.117748             -0.016912                 0.315966   \n",
       "\n",
       "     total_median_zscore  school_enrollment_count_zscore  \\\n",
       "183                  0.0                       -0.489561   \n",
       "\n",
       "     incidents_count_zscore  final_score_zsum  distance_to_cbd_km east_west  \n",
       "183               -0.058122          0.476808           13.129215      West  "
      ]
     },
     "execution_count": 48,
     "metadata": {},
     "output_type": "execute_result"
    }
   ],
   "source": [
    "# max  sigmoid score\n",
    "max_sig = sig[sig['final_score_zsum'] == sig['final_score_zsum'].max()]\n",
    "min_sig = sig[sig['final_score_zsum'] == sig['final_score_zsum'].min()]\n",
    "median_sig = sig[sig['final_score_zsum'] == sig['final_score_zsum'].median()]\n",
    "mean_sig = sig.final_score_zsum.mean()"
   ]
  },
  {
   "cell_type": "markdown",
   "id": "e47f6c9a",
   "metadata": {},
   "source": [
    "The 'bustling' metric was created using z-scores from the provided datasets, including polling locations, bus stops, school area sizes, and total businesss. Additional data was also collected, including total student enrolment within the SA2 area. The mean sigmoid function score was 0.483, with the median 'bustling' SA2 area being Sans Souci, with a score of 0.477. The most 'bustling' area of Sydney was determined to be Badgerys Creek, with a sigmoid function socre of ~1. The least 'bustling' area was determined to be Cobbity, with a sigmoid function score of ~0.006. "
   ]
  },
  {
   "cell_type": "markdown",
   "id": "3d5fc8b9",
   "metadata": {},
   "source": [
    "## Distance & Bustlingness"
   ]
  },
  {
   "cell_type": "markdown",
   "id": "6b7704a7",
   "metadata": {},
   "source": [
    "The sigmoid function can be utilised in order to demonstrate different trends of 'bustlingness' throughout Sydney's GMR. One interesting trend that can be studied is the relationship between 'bustlingness' and the relative position in relation to the CBD. A simple linear regression model was conducted in order to test for any significant relationships between the two variables. "
   ]
  },
  {
   "cell_type": "code",
   "execution_count": 20,
   "id": "12323664",
   "metadata": {},
   "outputs": [],
   "source": [
    "# calculate distance to sydney cbd \n",
    "sql = \"\"\"\n",
    "WITH cbd AS (\n",
    "    SELECT \n",
    "        ST_SetSRID(ST_MakePoint(151.2073, -33.8708), 4283) AS geom\n",
    "),\n",
    "sa2_cbd AS (\n",
    "    SELECT \n",
    "        sa2_code21, \n",
    "        sa2_name21, \n",
    "        ST_Distance(sa2.geom::geography, cbd.geom::geography) AS distance_to_cbd\n",
    "    FROM \n",
    "        sa2 \n",
    "    CROSS JOIN \n",
    "        cbd\n",
    ")\n",
    "SELECT\n",
    "    sa2_code21,\n",
    "    sa2_name21,\n",
    "    distance_to_cbd / 1000 AS distance_to_cbd_km\n",
    "FROM    \n",
    "    sa2_cbd\n",
    "ORDER BY    \n",
    "    distance_to_cbd_km;\n",
    "\"\"\"\n",
    "\n",
    "distance = query(conn, sql)\n",
    "distance.to_csv('distance_to_cbd.csv', index=False)"
   ]
  },
  {
   "cell_type": "code",
   "execution_count": 21,
   "id": "2222fa0f",
   "metadata": {},
   "outputs": [],
   "source": [
    "# read in distances \n",
    "dist = pd.read_csv('distance_to_cbd.csv')\n",
    "\n",
    "# add distances to sig data\n",
    "sig = sig.merge(dist, on=['sa2_code21', 'sa2_name21'], how='left')"
   ]
  },
  {
   "cell_type": "code",
   "execution_count": 22,
   "id": "968469f4",
   "metadata": {},
   "outputs": [
    {
     "data": {
      "text/html": [
       "<table class=\"simpletable\">\n",
       "<caption>OLS Regression Results</caption>\n",
       "<tr>\n",
       "  <th>Dep. Variable:</th>    <td>final_score_zsum</td> <th>  R-squared:         </th> <td>   0.007</td>\n",
       "</tr>\n",
       "<tr>\n",
       "  <th>Model:</th>                   <td>OLS</td>       <th>  Adj. R-squared:    </th> <td>   0.004</td>\n",
       "</tr>\n",
       "<tr>\n",
       "  <th>Method:</th>             <td>Least Squares</td>  <th>  F-statistic:       </th> <td>   2.449</td>\n",
       "</tr>\n",
       "<tr>\n",
       "  <th>Date:</th>             <td>Tue, 14 May 2024</td> <th>  Prob (F-statistic):</th>  <td> 0.118</td> \n",
       "</tr>\n",
       "<tr>\n",
       "  <th>Time:</th>                 <td>01:29:08</td>     <th>  Log-Likelihood:    </th> <td> -135.60</td>\n",
       "</tr>\n",
       "<tr>\n",
       "  <th>No. Observations:</th>      <td>   367</td>      <th>  AIC:               </th> <td>   275.2</td>\n",
       "</tr>\n",
       "<tr>\n",
       "  <th>Df Residuals:</th>          <td>   365</td>      <th>  BIC:               </th> <td>   283.0</td>\n",
       "</tr>\n",
       "<tr>\n",
       "  <th>Df Model:</th>              <td>     1</td>      <th>                     </th>     <td> </td>   \n",
       "</tr>\n",
       "<tr>\n",
       "  <th>Covariance Type:</th>      <td>nonrobust</td>    <th>                     </th>     <td> </td>   \n",
       "</tr>\n",
       "</table>\n",
       "<table class=\"simpletable\">\n",
       "<tr>\n",
       "           <td></td>             <th>coef</th>     <th>std err</th>      <th>t</th>      <th>P>|t|</th>  <th>[0.025</th>    <th>0.975]</th>  \n",
       "</tr>\n",
       "<tr>\n",
       "  <th>const</th>              <td>    0.5215</td> <td>    0.031</td> <td>   17.080</td> <td> 0.000</td> <td>    0.461</td> <td>    0.582</td>\n",
       "</tr>\n",
       "<tr>\n",
       "  <th>distance_to_cbd_km</th> <td>   -0.0016</td> <td>    0.001</td> <td>   -1.565</td> <td> 0.118</td> <td>   -0.004</td> <td>    0.000</td>\n",
       "</tr>\n",
       "</table>\n",
       "<table class=\"simpletable\">\n",
       "<tr>\n",
       "  <th>Omnibus:</th>       <td>3366.750</td> <th>  Durbin-Watson:     </th> <td>   0.014</td>\n",
       "</tr>\n",
       "<tr>\n",
       "  <th>Prob(Omnibus):</th>  <td> 0.000</td>  <th>  Jarque-Bera (JB):  </th> <td>  36.657</td>\n",
       "</tr>\n",
       "<tr>\n",
       "  <th>Skew:</th>           <td> 0.136</td>  <th>  Prob(JB):          </th> <td>1.10e-08</td>\n",
       "</tr>\n",
       "<tr>\n",
       "  <th>Kurtosis:</th>       <td> 1.476</td>  <th>  Cond. No.          </th> <td>    48.6</td>\n",
       "</tr>\n",
       "</table><br/><br/>Notes:<br/>[1] Standard Errors assume that the covariance matrix of the errors is correctly specified."
      ],
      "text/latex": [
       "\\begin{center}\n",
       "\\begin{tabular}{lclc}\n",
       "\\toprule\n",
       "\\textbf{Dep. Variable:}        & final\\_score\\_zsum & \\textbf{  R-squared:         } &     0.007   \\\\\n",
       "\\textbf{Model:}                &        OLS         & \\textbf{  Adj. R-squared:    } &     0.004   \\\\\n",
       "\\textbf{Method:}               &   Least Squares    & \\textbf{  F-statistic:       } &     2.449   \\\\\n",
       "\\textbf{Date:}                 &  Tue, 14 May 2024  & \\textbf{  Prob (F-statistic):} &    0.118    \\\\\n",
       "\\textbf{Time:}                 &      01:29:08      & \\textbf{  Log-Likelihood:    } &   -135.60   \\\\\n",
       "\\textbf{No. Observations:}     &          367       & \\textbf{  AIC:               } &     275.2   \\\\\n",
       "\\textbf{Df Residuals:}         &          365       & \\textbf{  BIC:               } &     283.0   \\\\\n",
       "\\textbf{Df Model:}             &            1       & \\textbf{                     } &             \\\\\n",
       "\\textbf{Covariance Type:}      &     nonrobust      & \\textbf{                     } &             \\\\\n",
       "\\bottomrule\n",
       "\\end{tabular}\n",
       "\\begin{tabular}{lcccccc}\n",
       "                               & \\textbf{coef} & \\textbf{std err} & \\textbf{t} & \\textbf{P$> |$t$|$} & \\textbf{[0.025} & \\textbf{0.975]}  \\\\\n",
       "\\midrule\n",
       "\\textbf{const}                 &       0.5215  &        0.031     &    17.080  &         0.000        &        0.461    &        0.582     \\\\\n",
       "\\textbf{distance\\_to\\_cbd\\_km} &      -0.0016  &        0.001     &    -1.565  &         0.118        &       -0.004    &        0.000     \\\\\n",
       "\\bottomrule\n",
       "\\end{tabular}\n",
       "\\begin{tabular}{lclc}\n",
       "\\textbf{Omnibus:}       & 3366.750 & \\textbf{  Durbin-Watson:     } &    0.014  \\\\\n",
       "\\textbf{Prob(Omnibus):} &   0.000  & \\textbf{  Jarque-Bera (JB):  } &   36.657  \\\\\n",
       "\\textbf{Skew:}          &   0.136  & \\textbf{  Prob(JB):          } & 1.10e-08  \\\\\n",
       "\\textbf{Kurtosis:}      &   1.476  & \\textbf{  Cond. No.          } &     48.6  \\\\\n",
       "\\bottomrule\n",
       "\\end{tabular}\n",
       "%\\caption{OLS Regression Results}\n",
       "\\end{center}\n",
       "\n",
       "Notes: \\newline\n",
       " [1] Standard Errors assume that the covariance matrix of the errors is correctly specified."
      ],
      "text/plain": [
       "<class 'statsmodels.iolib.summary.Summary'>\n",
       "\"\"\"\n",
       "                            OLS Regression Results                            \n",
       "==============================================================================\n",
       "Dep. Variable:       final_score_zsum   R-squared:                       0.007\n",
       "Model:                            OLS   Adj. R-squared:                  0.004\n",
       "Method:                 Least Squares   F-statistic:                     2.449\n",
       "Date:                Tue, 14 May 2024   Prob (F-statistic):              0.118\n",
       "Time:                        01:29:08   Log-Likelihood:                -135.60\n",
       "No. Observations:                 367   AIC:                             275.2\n",
       "Df Residuals:                     365   BIC:                             283.0\n",
       "Df Model:                           1                                         \n",
       "Covariance Type:            nonrobust                                         \n",
       "======================================================================================\n",
       "                         coef    std err          t      P>|t|      [0.025      0.975]\n",
       "--------------------------------------------------------------------------------------\n",
       "const                  0.5215      0.031     17.080      0.000       0.461       0.582\n",
       "distance_to_cbd_km    -0.0016      0.001     -1.565      0.118      -0.004       0.000\n",
       "==============================================================================\n",
       "Omnibus:                     3366.750   Durbin-Watson:                   0.014\n",
       "Prob(Omnibus):                  0.000   Jarque-Bera (JB):               36.657\n",
       "Skew:                           0.136   Prob(JB):                     1.10e-08\n",
       "Kurtosis:                       1.476   Cond. No.                         48.6\n",
       "==============================================================================\n",
       "\n",
       "Notes:\n",
       "[1] Standard Errors assume that the covariance matrix of the errors is correctly specified.\n",
       "\"\"\""
      ]
     },
     "execution_count": 22,
     "metadata": {},
     "output_type": "execute_result"
    }
   ],
   "source": [
    "# regression of final_score_zsum ~ distance_to_cbd_km in python\n",
    "import statsmodels.api as sm\n",
    "\n",
    "# drop missing values and 0s\n",
    "sig = sig.dropna(subset=['distance_to_cbd_km'])\n",
    "sig = sig[sig['distance_to_cbd_km'] > 0]\n",
    "sig = sig.dropna(subset=['final_score_zsum'])\n",
    "sig = sig[sig['final_score_zsum'] > 0]\n",
    "\n",
    "# regression\n",
    "X = sig['distance_to_cbd_km']\n",
    "y = sig['final_score_zsum']\n",
    "X = sm.add_constant(X)\n",
    "model = sm.OLS(y, X).fit()\n",
    "predictions = model.predict(X)\n",
    "model.summary()"
   ]
  },
  {
   "cell_type": "markdown",
   "id": "66675bef",
   "metadata": {},
   "source": [
    "The regression model, run using python's `statsmodels` module, showed no signficant relationship between the 'bustling' metric and distance from the CBD (t = -1.565, p = 0.118, df = 365). The interactive leaflet already suggested that this might be the case as SA2 areas with high 'bustling' metric scores can be observed across Sydney's entire GMR. Further, low R-squared and adjusted R-squared values (0.007 and 0.004 respectively) suggest that the model does not explain much of the variance in the data."
   ]
  },
  {
   "cell_type": "code",
   "execution_count": 23,
   "id": "f5908f97",
   "metadata": {},
   "outputs": [
    {
     "data": {
      "application/vnd.plotly.v1+json": {
       "config": {
        "plotlyServerURL": "https://plot.ly"
       },
       "data": [
        {
         "hovertemplate": "Distance to CBD: %{x:.3f} km<br>Sigmoid Function Score: %{y:.3f}",
         "legendgroup": "",
         "line": {
          "color": "darkblue"
         },
         "marker": {
          "color": "blue",
          "symbol": "circle"
         },
         "mode": "markers",
         "name": "",
         "orientation": "v",
         "showlegend": false,
         "type": "scatter",
         "x": [
          41.48473186742,
          0.39689859511,
          16.36380592819,
          2.26411798761,
          22.57355376323,
          24.50645637523,
          33.63348235761,
          21.78787104885,
          7.110905223890001,
          12.3618559473,
          53.774207993210005,
          18.07777958245,
          18.17007548264,
          7.65106210198,
          9.35797229503,
          24.37831504369,
          13.58696317283,
          48.24604973479,
          21.19978071445,
          39.62286817843,
          22.00506894646,
          32.1647199176,
          11.46220143097,
          44.81984540621,
          9.14226596725,
          16.93834148984,
          16.87702827532,
          7.693493373330001,
          33.11913154461,
          3.5248686121199997,
          14.1011751198,
          25.70721245767,
          53.32813078312,
          1.6277333932,
          18.63346579043,
          11.86176090473,
          41.99142556744,
          18.20938940087,
          14.52743558187,
          13.67073616642,
          14.54250797026,
          22.90986025065,
          1.99275604271,
          35.28808808074,
          17.72064733855,
          47.55332276833,
          0.8062042241299999,
          20.7020937931,
          18.72941047504,
          17.67379195169,
          37.763677636779995,
          17.77704553611,
          10.64957930613,
          3.75445548862,
          19.32516455993,
          9.25476941319,
          28.28417773035,
          26.400645644420003,
          22.11328780305,
          2.7505544725599997,
          20.4768085812,
          69.29194841045,
          30.04215140612,
          15.61791511008,
          80.34342843108,
          20.352818835319997,
          34.99353948736,
          43.67094300971,
          16.95400494296,
          11.95065692022,
          68.35694344883001,
          13.29439582873,
          23.30999398653,
          15.99264589292,
          21.32311195596,
          8.037147307,
          8.211144365840001,
          11.09237770699,
          23.7127711441,
          9.93040617701,
          11.37978047421,
          5.648456411660001,
          23.49587380813,
          12.82595316884,
          27.11859856963,
          47.01118358018,
          22.53266230673,
          21.44279554972,
          40.51444384015,
          28.23615850098,
          47.56200233629,
          50.42362110511,
          39.67563659573,
          15.89055151689,
          57.12604061217,
          21.71404547516,
          5.90050975937,
          4.33440537757,
          39.45389186629,
          20.32167477931,
          57.42917866017,
          6.56908522384,
          2.7979846997599997,
          17.81611412727,
          17.12222845408,
          36.79820914378,
          20.34792293358,
          6.36442497038,
          27.72498502584,
          23.78672513203,
          3.5293058525000003,
          20.65574272944,
          36.45411994432,
          23.17580936513,
          61.52218132519,
          28.12805474619,
          4.44564340156,
          47.03239526521,
          9.62947433649,
          18.65148987638,
          49.06005312234,
          10.31603194917,
          22.30481083209,
          9.60738927433,
          40.25459340695,
          31.34064908493,
          20.07156836333,
          47.67496790235,
          0.5889396446199999,
          2.24050264336,
          19.22924756632,
          8.39677333515,
          13.52863741331,
          26.82507258368,
          31.892239494050003,
          1.36274056213,
          27.27194951648,
          5.2549365561200005,
          44.39243348192,
          9.61996538024,
          34.230823125579995,
          15.84311767278,
          20.00085614054,
          35.57647790459,
          6.439744425220001,
          3.80545958332,
          26.04950403105,
          18.08093285966,
          14.33281419378,
          0.52540372199,
          4.190204969850001,
          3.62390858736,
          7.23127475225,
          6.0348454374100005,
          28.6327865356,
          7.61563163199,
          5.70335199591,
          9.78874027287,
          5.417534918129999,
          10.008521018,
          2.86496946039,
          26.95170466675,
          37.52036427731,
          23.95706960098,
          15.0966932472,
          33.69278632606,
          15.40371922031,
          30.20567804151,
          19.87533906496,
          39.90073468823,
          11.16086226163,
          5.25000850935,
          13.2878440254,
          46.58875979772,
          3.66433339403,
          0.87318520313,
          46.849982992680005,
          41.95907757634,
          11.59649372223,
          43.66598754409,
          50.47807039896,
          4.6575258143700005,
          4.81421754651,
          13.12921454822,
          19.14835783233,
          26.37712573635,
          7.39001330112,
          52.17715813421,
          9.33285077955,
          38.00008441974,
          17.32815167715,
          31.70578568669,
          29.91259774374,
          2.9763704522100003,
          60.56359969759,
          67.01496037576,
          4.14509728947,
          12.68806035847,
          12.67575392536,
          11.07498914674,
          29.91165689614,
          12.92871499097,
          6.54722344986,
          35.50819466952,
          23.02638017668,
          2.08319736374,
          15.8255635771,
          47.00733648139,
          19.018282721979997,
          5.26085942935,
          43.100024742920006,
          29.26986649253,
          7.777366497549999,
          25.75141035269,
          22.49252298219,
          18.70812077476,
          5.207304171470001,
          14.64482120128,
          34.82927148235,
          51.27421030327,
          30.22236590284,
          11.33042330294,
          19.23575880122,
          13.04354303304,
          15.52142668519,
          5.78633229082,
          3.3659017552,
          23.38506404079,
          52.327444045049994,
          5.88781452978,
          20.26096852239,
          15.53809902237,
          12.95933450013,
          3.56514694254,
          12.97020915578,
          1.57401826205,
          81.15972153477,
          9.87603229046,
          4.7842412652599995,
          11.87434249511,
          19.02218398137,
          5.05235150463,
          8.53585336904,
          14.56328829934,
          9.13078924817,
          27.97815584311,
          46.18579766971,
          5.70306419502,
          24.38691269176,
          14.04326708427,
          65.19914464276,
          19.223766053259997,
          14.80393315542,
          38.11272125037,
          28.52973167155,
          33.24229456598,
          31.614801814040003,
          32.1719208098,
          31.73404294774,
          23.2964049742,
          18.64932795234,
          6.3129746646200005,
          32.5687527049,
          52.378445229899995,
          12.64095513427,
          2.12231317021,
          9.37518361151,
          61.64600927145,
          65.55347867118999,
          31.042940184539997,
          26.70528966967,
          4.21724677951,
          3.57865968733,
          10.66683561773,
          9.54913189443,
          13.86958852306,
          23.92518151888,
          30.0557059539,
          77.196696249,
          6.54061500045,
          21.64185691499,
          13.09162437121,
          34.91110988544,
          13.7183886885,
          7.44137262321,
          28.65301687356,
          9.96476135124,
          22.131986998290003,
          14.31853213766,
          53.78204193169,
          7.43901630259,
          37.03431704174,
          6.20534073415,
          56.92318395427,
          29.12062399353,
          25.14310567756,
          22.3499987129,
          15.59929241658,
          34.52080279334,
          27.53608436645,
          71.03991384333,
          20.548511390709997,
          16.53845690312,
          40.77928375354,
          2.78640288815,
          15.56048516703,
          37.66359063151,
          5.88629253315,
          75.37375165488001,
          19.614193082369997,
          7.28925921185,
          43.82128495641,
          2.7783825741599997,
          1.4481935844699998,
          26.90182143864,
          13.66504635543,
          85.60133826689,
          10.87248170919,
          24.4041750364,
          29.3493758031,
          43.33931379257999,
          46.63038411631,
          8.40707956266,
          42.39381321508,
          22.85124055165,
          0.9600753683,
          44.55222582269,
          30.01290424781,
          15.44534697195,
          9.70363922074,
          13.05697825236,
          16.29106436871,
          36.7217079645,
          34.13321993021,
          17.141709536620002,
          29.34895173992,
          20.993480244319997,
          1.88957950753,
          14.60642752323,
          46.64866724757,
          15.433658567459998,
          9.98564524729,
          52.29320297479,
          12.40459219476,
          23.2719985549,
          26.52707510578,
          75.72443578359,
          44.43908500694,
          7.94143127972,
          44.44538346367,
          9.3558574244,
          11.55519232467,
          51.86297612481,
          15.28280552927,
          64.62955021858,
          25.28865464085,
          9.48594449907,
          7.159488167769999,
          86.22637066548,
          30.55187639844,
          24.08132355093,
          32.04117771868,
          22.23264053668,
          15.56797743237,
          7.81999602322,
          47.777794801789994,
          42.67549676741
         ],
         "xaxis": "x",
         "y": [
          0.9999961852227692,
          0.9999365738848496,
          0.9998360877371686,
          0.9998169276227882,
          0.9998066636636034,
          0.9986811515589336,
          0.9986507780442252,
          0.9980486465607185,
          0.99773345865318,
          0.996917070685428,
          0.99624689930093,
          0.99570483058227,
          0.995117719142294,
          0.9946696377428352,
          0.9945082904957774,
          0.9944985574766136,
          0.9940140006878302,
          0.9930543143919428,
          0.99281529726703,
          0.9925738077505636,
          0.9916583103927596,
          0.989159275746403,
          0.988958668530326,
          0.988334148251606,
          0.988230701361327,
          0.9868708053611986,
          0.9866145688048912,
          0.9861860300701942,
          0.9830997407607868,
          0.9828770234891528,
          0.980539087050287,
          0.9801359062293152,
          0.980056053412923,
          0.9787079909456992,
          0.9773473560723358,
          0.9766406774866032,
          0.97021395127341,
          0.9668143294214624,
          0.9666245124014669,
          0.9664458119195783,
          0.9650818596750572,
          0.9639123793561712,
          0.9595640063079576,
          0.959341589960452,
          0.9576271841409294,
          0.954655728364502,
          0.9533813627228256,
          0.9460160041687258,
          0.9437765488650696,
          0.9425998128636028,
          0.94081520414679,
          0.9407858415053446,
          0.9381306220582264,
          0.9379035994214956,
          0.9358139526679484,
          0.9357223952703289,
          0.9313291964311956,
          0.9312709035927434,
          0.9305296597973584,
          0.9295672481441756,
          0.9271833892673172,
          0.9238529222696484,
          0.921118706460079,
          0.9207570575060514,
          0.917138252296562,
          0.9137964466774854,
          0.9120669432930024,
          0.909432022655692,
          0.9093874363613368,
          0.9074386531225592,
          0.9072470559469112,
          0.9027880788844878,
          0.9004762342518075,
          0.897652005229915,
          0.8973030442454377,
          0.8969574270110078,
          0.8868204147234507,
          0.8860335052289562,
          0.8857978424567069,
          0.8834433367200677,
          0.8804962366486819,
          0.8803362274493308,
          0.8792310434973524,
          0.8702594092398194,
          0.8675847335275935,
          0.8669796020239086,
          0.8651012421475257,
          0.8613377389321741,
          0.8561733228094272,
          0.8556548372094944,
          0.8528961907332491,
          0.8471714520996599,
          0.846346517585945,
          0.8385516290418117,
          0.8356436672231643,
          0.8296808116657882,
          0.8283575489334114,
          0.8282708720024635,
          0.8225959723621384,
          0.8147733304363071,
          0.814500524768384,
          0.811784157885073,
          0.8114004120989907,
          0.8030120225108133,
          0.8016997855797328,
          0.794792688883949,
          0.7945513440635964,
          0.7866000607002682,
          0.7856784468856763,
          0.7808501231464503,
          0.7793309117840591,
          0.7777963665258715,
          0.7732961054000763,
          0.7666737917420168,
          0.766283887645943,
          0.7596865369959008,
          0.7505771483954966,
          0.7455651758217382,
          0.740561387980401,
          0.7299138529564418,
          0.7165330757238411,
          0.7142941175621084,
          0.7137564607517004,
          0.7102463550478118,
          0.7093956626807868,
          0.7032440415844232,
          0.7016007341060817,
          0.6917639718009269,
          0.6868658399707975,
          0.6849624944357243,
          0.6754481452592703,
          0.6732121663884508,
          0.6707046209426318,
          0.6685354328713059,
          0.6673790171307945,
          0.6645993864366737,
          0.6641360784868333,
          0.6638937367096898,
          0.6606822823036258,
          0.6596690610256766,
          0.6533818189069897,
          0.6477465078764145,
          0.644302309820106,
          0.6410076192006353,
          0.6318612432533495,
          0.6299560989837324,
          0.6209231780981143,
          0.6194664932564241,
          0.6145979410213053,
          0.6145701868215815,
          0.5979168029147166,
          0.594452500534015,
          0.593949960472613,
          0.5864105526589745,
          0.5863593259091705,
          0.5853966563443863,
          0.577002446284875,
          0.5709720607742906,
          0.5695631446206044,
          0.5640800725841644,
          0.5588880968842337,
          0.5558867613978052,
          0.5529135196999514,
          0.5518475633752388,
          0.5470134045871998,
          0.544794458712033,
          0.5431770696211008,
          0.5412611884316308,
          0.5386712080002124,
          0.5380083648133831,
          0.5359038009323879,
          0.5304603454308288,
          0.5292561123697133,
          0.5238642049742965,
          0.516674788601917,
          0.5109381642033517,
          0.5007347913666828,
          0.4986674671231614,
          0.4931122794226331,
          0.4930483804213596,
          0.4887590112111132,
          0.4851708614701008,
          0.4819737816590714,
          0.4768082779336555,
          0.4578480447420508,
          0.4534666694386175,
          0.4456306743951754,
          0.4434615192413117,
          0.4406295463447901,
          0.4351739354807613,
          0.434208075792207,
          0.4218795723713195,
          0.4132598186690658,
          0.4111306984986191,
          0.409725802796872,
          0.4050921777427975,
          0.3960845026269496,
          0.3891634264708813,
          0.3804067410678733,
          0.3801154926109624,
          0.3791271885964843,
          0.3728490489160698,
          0.3520813023609402,
          0.3459307538117547,
          0.3435804115898113,
          0.3358954121166028,
          0.3355806530880708,
          0.3350036969170535,
          0.3270817495719509,
          0.3213283367187777,
          0.3181331501629466,
          0.3141103822752594,
          0.3091667483464066,
          0.3061773775240564,
          0.3051536781866056,
          0.2966446085518059,
          0.2962846323347212,
          0.2909457666035929,
          0.283033770495284,
          0.2794649612343206,
          0.2783910218118097,
          0.2783715373974348,
          0.2772156258464547,
          0.2646797786680442,
          0.2617683857764871,
          0.2608472848502685,
          0.2557018798865546,
          0.2546672109211301,
          0.252363501766825,
          0.2521314008007215,
          0.2495048787856557,
          0.2423474734702797,
          0.2407471061275582,
          0.2406698336571316,
          0.2361358326926489,
          0.2358692243172154,
          0.2268806948319331,
          0.2198588952118322,
          0.2167774837646914,
          0.2140861399049943,
          0.2135440746575784,
          0.2116330686422323,
          0.2094099029566619,
          0.2077990224370637,
          0.2070206266194228,
          0.201071263567596,
          0.1954595473231472,
          0.1898805659864532,
          0.1882608898124893,
          0.1828323475622919,
          0.1817162005921563,
          0.180890897843094,
          0.1790921809361987,
          0.1745060961159518,
          0.1721894344418198,
          0.1714685674688978,
          0.1652172513279016,
          0.163743959598982,
          0.1558927734939006,
          0.1548182850492472,
          0.1524748584237495,
          0.1518264850861138,
          0.1510970489117198,
          0.1507668852946284,
          0.1449717191856838,
          0.143884322126829,
          0.1425846785680855,
          0.1419663371079745,
          0.1415244770860373,
          0.140772159970004,
          0.1356840028491442,
          0.1349840709156919,
          0.1345269697728917,
          0.1336686977921126,
          0.1303182416829634,
          0.1286058350981598,
          0.1270751453514872,
          0.1268975647994214,
          0.1256843711292582,
          0.1221480365387628,
          0.1181214637537573,
          0.1176051656882923,
          0.1175390497129967,
          0.1174276481982749,
          0.1174219401069726,
          0.1160179247401195,
          0.1142219619651454,
          0.1108077853865321,
          0.1084081073399392,
          0.1082243910352009,
          0.1081134717528874,
          0.1057554869354681,
          0.1033261634628928,
          0.1032597174145963,
          0.103202343213774,
          0.1028851128940131,
          0.1008041425872798,
          0.0981257088296515,
          0.0935283909084743,
          0.0892924977557408,
          0.0892765386939812,
          0.0879392103159713,
          0.0870261799771772,
          0.0868675254899314,
          0.0812406549074309,
          0.081237381310211,
          0.0795761944751572,
          0.0782900396267622,
          0.078265173563226,
          0.0733426725310199,
          0.0709668855376951,
          0.0696215381755772,
          0.0689503815208042,
          0.0686127904603427,
          0.0679681213608089,
          0.0658918358075932,
          0.0650649335188887,
          0.0647288275995072,
          0.0631864627937309,
          0.0618558372744076,
          0.0614930547187863,
          0.0600215285044729,
          0.0578830726780632,
          0.054189409311017,
          0.0527231762329237,
          0.052314153098678,
          0.0519933136506214,
          0.0513899041937321,
          0.050896272331768,
          0.0508056169168438,
          0.0498566444057581,
          0.0495743363459415,
          0.0456112670943148,
          0.0454016413433592,
          0.0446406185457787,
          0.0443223053302029,
          0.043876368330242,
          0.043828255178136,
          0.0431165246326601,
          0.0424635302202258,
          0.0412286404372824,
          0.040818837805822,
          0.0333962388948883,
          0.0331692294067161,
          0.0293644207830407,
          0.0293574747072826,
          0.0285986692719438,
          0.0281482622463526,
          0.0278734011204483,
          0.0275090521197383,
          0.0251126360368502,
          0.0242313631979668,
          0.0230219203879875,
          0.0215948946310348,
          0.0214038679241146,
          0.0209830538038354,
          0.019725995360894,
          0.0165096728806559,
          0.0149142229747001,
          0.0146268475678622,
          0.0128438644606816,
          0.0107865184729845,
          0.0096993697359217,
          0.0094231374166433,
          0.0091667651056408,
          0.0070422197450959,
          0.0059784979599238
         ],
         "yaxis": "y"
        },
        {
         "hovertemplate": "Distance to CBD: %{x:.3f} km<br>Sigmoid Function Score: %{y:.3f}",
         "legendgroup": "",
         "line": {
          "color": "darkblue"
         },
         "marker": {
          "color": "blue",
          "symbol": "circle"
         },
         "mode": "lines",
         "name": "",
         "showlegend": false,
         "type": "scatter",
         "x": [
          0.39689859511,
          0.52540372199,
          0.5889396446199999,
          0.8062042241299999,
          0.87318520313,
          0.9600753683,
          1.36274056213,
          1.4481935844699998,
          1.57401826205,
          1.6277333932,
          1.88957950753,
          1.99275604271,
          2.08319736374,
          2.12231317021,
          2.24050264336,
          2.26411798761,
          2.7505544725599997,
          2.7783825741599997,
          2.78640288815,
          2.7979846997599997,
          2.86496946039,
          2.9763704522100003,
          3.3659017552,
          3.5248686121199997,
          3.5293058525000003,
          3.56514694254,
          3.57865968733,
          3.62390858736,
          3.66433339403,
          3.75445548862,
          3.80545958332,
          4.14509728947,
          4.190204969850001,
          4.21724677951,
          4.33440537757,
          4.44564340156,
          4.6575258143700005,
          4.7842412652599995,
          4.81421754651,
          5.05235150463,
          5.207304171470001,
          5.25000850935,
          5.2549365561200005,
          5.26085942935,
          5.417534918129999,
          5.648456411660001,
          5.70306419502,
          5.70335199591,
          5.78633229082,
          5.88629253315,
          5.88781452978,
          5.90050975937,
          6.0348454374100005,
          6.20534073415,
          6.3129746646200005,
          6.36442497038,
          6.439744425220001,
          6.54061500045,
          6.54722344986,
          6.56908522384,
          7.110905223890001,
          7.159488167769999,
          7.23127475225,
          7.28925921185,
          7.39001330112,
          7.43901630259,
          7.44137262321,
          7.61563163199,
          7.65106210198,
          7.693493373330001,
          7.777366497549999,
          7.81999602322,
          7.94143127972,
          8.037147307,
          8.211144365840001,
          8.39677333515,
          8.40707956266,
          8.53585336904,
          9.13078924817,
          9.14226596725,
          9.25476941319,
          9.33285077955,
          9.3558574244,
          9.35797229503,
          9.37518361151,
          9.48594449907,
          9.54913189443,
          9.60738927433,
          9.61996538024,
          9.62947433649,
          9.70363922074,
          9.78874027287,
          9.87603229046,
          9.93040617701,
          9.96476135124,
          9.98564524729,
          10.008521018,
          10.31603194917,
          10.64957930613,
          10.66683561773,
          10.87248170919,
          11.07498914674,
          11.09237770699,
          11.16086226163,
          11.33042330294,
          11.37978047421,
          11.46220143097,
          11.55519232467,
          11.59649372223,
          11.86176090473,
          11.87434249511,
          11.95065692022,
          12.3618559473,
          12.40459219476,
          12.64095513427,
          12.67575392536,
          12.68806035847,
          12.82595316884,
          12.92871499097,
          12.95933450013,
          12.97020915578,
          13.04354303304,
          13.05697825236,
          13.09162437121,
          13.12921454822,
          13.2878440254,
          13.29439582873,
          13.52863741331,
          13.58696317283,
          13.66504635543,
          13.67073616642,
          13.7183886885,
          13.86958852306,
          14.04326708427,
          14.1011751198,
          14.31853213766,
          14.33281419378,
          14.52743558187,
          14.54250797026,
          14.56328829934,
          14.60642752323,
          14.64482120128,
          14.80393315542,
          15.0966932472,
          15.28280552927,
          15.40371922031,
          15.433658567459998,
          15.44534697195,
          15.52142668519,
          15.53809902237,
          15.56048516703,
          15.56797743237,
          15.59929241658,
          15.61791511008,
          15.8255635771,
          15.84311767278,
          15.89055151689,
          15.99264589292,
          16.29106436871,
          16.36380592819,
          16.53845690312,
          16.87702827532,
          16.93834148984,
          16.95400494296,
          17.12222845408,
          17.141709536620002,
          17.32815167715,
          17.67379195169,
          17.72064733855,
          17.77704553611,
          17.81611412727,
          18.07777958245,
          18.08093285966,
          18.17007548264,
          18.20938940087,
          18.63346579043,
          18.64932795234,
          18.65148987638,
          18.70812077476,
          18.72941047504,
          19.018282721979997,
          19.02218398137,
          19.14835783233,
          19.223766053259997,
          19.22924756632,
          19.23575880122,
          19.32516455993,
          19.614193082369997,
          19.87533906496,
          20.00085614054,
          20.07156836333,
          20.26096852239,
          20.32167477931,
          20.34792293358,
          20.352818835319997,
          20.4768085812,
          20.548511390709997,
          20.65574272944,
          20.7020937931,
          20.993480244319997,
          21.19978071445,
          21.32311195596,
          21.44279554972,
          21.64185691499,
          21.71404547516,
          21.78787104885,
          22.00506894646,
          22.11328780305,
          22.131986998290003,
          22.23264053668,
          22.30481083209,
          22.3499987129,
          22.49252298219,
          22.53266230673,
          22.57355376323,
          22.85124055165,
          22.90986025065,
          23.02638017668,
          23.17580936513,
          23.2719985549,
          23.2964049742,
          23.30999398653,
          23.38506404079,
          23.49587380813,
          23.7127711441,
          23.78672513203,
          23.92518151888,
          23.95706960098,
          24.08132355093,
          24.37831504369,
          24.38691269176,
          24.4041750364,
          24.50645637523,
          25.14310567756,
          25.28865464085,
          25.70721245767,
          25.75141035269,
          26.04950403105,
          26.37712573635,
          26.400645644420003,
          26.52707510578,
          26.70528966967,
          26.82507258368,
          26.90182143864,
          26.95170466675,
          27.11859856963,
          27.27194951648,
          27.53608436645,
          27.72498502584,
          27.97815584311,
          28.12805474619,
          28.23615850098,
          28.28417773035,
          28.52973167155,
          28.6327865356,
          28.65301687356,
          29.12062399353,
          29.26986649253,
          29.34895173992,
          29.3493758031,
          29.91165689614,
          29.91259774374,
          30.01290424781,
          30.04215140612,
          30.0557059539,
          30.20567804151,
          30.22236590284,
          30.55187639844,
          31.042940184539997,
          31.34064908493,
          31.614801814040003,
          31.70578568669,
          31.73404294774,
          31.892239494050003,
          32.04117771868,
          32.1647199176,
          32.1719208098,
          32.5687527049,
          33.11913154461,
          33.24229456598,
          33.63348235761,
          33.69278632606,
          34.13321993021,
          34.230823125579995,
          34.52080279334,
          34.82927148235,
          34.91110988544,
          34.99353948736,
          35.28808808074,
          35.50819466952,
          35.57647790459,
          36.45411994432,
          36.7217079645,
          36.79820914378,
          37.03431704174,
          37.52036427731,
          37.66359063151,
          37.763677636779995,
          38.00008441974,
          38.11272125037,
          39.45389186629,
          39.62286817843,
          39.67563659573,
          39.90073468823,
          40.25459340695,
          40.51444384015,
          40.77928375354,
          41.48473186742,
          41.95907757634,
          41.99142556744,
          42.39381321508,
          42.67549676741,
          43.100024742920006,
          43.33931379257999,
          43.66598754409,
          43.67094300971,
          43.82128495641,
          44.39243348192,
          44.43908500694,
          44.44538346367,
          44.55222582269,
          44.81984540621,
          46.18579766971,
          46.58875979772,
          46.63038411631,
          46.64866724757,
          46.849982992680005,
          47.00733648139,
          47.01118358018,
          47.03239526521,
          47.55332276833,
          47.56200233629,
          47.67496790235,
          47.777794801789994,
          48.24604973479,
          49.06005312234,
          50.42362110511,
          50.47807039896,
          51.27421030327,
          51.86297612481,
          52.17715813421,
          52.29320297479,
          52.327444045049994,
          52.378445229899995,
          53.32813078312,
          53.774207993210005,
          53.78204193169,
          56.92318395427,
          57.12604061217,
          57.42917866017,
          60.56359969759,
          61.52218132519,
          61.64600927145,
          64.62955021858,
          65.19914464276,
          65.55347867118999,
          67.01496037576,
          68.35694344883001,
          69.29194841045,
          71.03991384333,
          75.37375165488001,
          75.72443578359,
          77.196696249,
          80.34342843108,
          81.15972153477,
          85.60133826689,
          86.22637066548
         ],
         "xaxis": "x",
         "y": [
          0.5208269382961105,
          0.520616234226289,
          0.5205120572350432,
          0.5201558182876774,
          0.5200459925926364,
          0.5199035227015645,
          0.5192432907156865,
          0.5191031772429968,
          0.5188968681851889,
          0.5188087939034921,
          0.5183794566210363,
          0.5182102827024516,
          0.5180619901410284,
          0.5179978537145862,
          0.5178040637576607,
          0.5177653427411183,
          0.5169677547415019,
          0.5169221262564376,
          0.5169089757087515,
          0.516889985533796,
          0.5167801536381865,
          0.5165974944484053,
          0.5159587975119045,
          0.5156981467150608,
          0.5156908711718233,
          0.5156321041504475,
          0.5156099479113087,
          0.5155357553275359,
          0.5154694725924115,
          0.5153217034522067,
          0.5152380743348962,
          0.5146811856823719,
          0.5146072246500999,
          0.5145628854125222,
          0.5143707857350603,
          0.5141883937562913,
          0.5138409797052989,
          0.513633210086607,
          0.5135840593281055,
          0.5131936018004034,
          0.5129395328902705,
          0.5128695125104707,
          0.5128614322140972,
          0.5128517207455753,
          0.5125948270018879,
          0.512216195427589,
          0.5121266575042607,
          0.5121261856101013,
          0.511990126557229,
          0.5118262262491973,
          0.5118237306998602,
          0.5118029149035812,
          0.5115826507415786,
          0.5113030972810999,
          0.5111266147721795,
          0.5110422540226872,
          0.5109187561043018,
          0.5107533631644072,
          0.5107425275874953,
          0.5107066818211593,
          0.5098182839658125,
          0.5097386247004745,
          0.5096209194705295,
          0.5095258449632257,
          0.5093606430201143,
          0.5092802950052616,
          0.5092764314524486,
          0.5089907068028219,
          0.5089326130566514,
          0.5088630404117443,
          0.5087255174268575,
          0.5086556197132696,
          0.5084565077915463,
          0.5082995665318105,
          0.5080142713897046,
          0.5077099039277984,
          0.5076930052706506,
          0.5074818606591519,
          0.5065063710887425,
          0.506487553229276,
          0.5063030863951189,
          0.5061750598947861,
          0.5061373369352393,
          0.5061338692771022,
          0.506105648656514,
          0.5059240390168633,
          0.5058204334900877,
          0.5057249114876579,
          0.5057042910131128,
          0.5056886996057481,
          0.5055670947847676,
          0.5054275584217816,
          0.5052844296313923,
          0.5051952752181307,
          0.5051389445859961,
          0.505104702202067,
          0.5050671938309543,
          0.5045629820046617,
          0.5040160794234492,
          0.5039877850263889,
          0.5036505963906858,
          0.5033185540644619,
          0.5032900428252455,
          0.5031777517849352,
          0.5028997301810145,
          0.5028188014498894,
          0.5026836595185941,
          0.5025311865376738,
          0.5024634664959409,
          0.502028519842061,
          0.5020078903748775,
          0.5018827610485449,
          0.5012085365205746,
          0.5011384638200734,
          0.5007509101518354,
          0.500693852141112,
          0.5006736738369133,
          0.5004475772052106,
          0.500279083272939,
          0.5002288778425987,
          0.5002110471594268,
          0.5000908049031867,
          0.5000687757790699,
          0.5000119680981435,
          0.4999503331776261,
          0.4996902355671494,
          0.4996794928702639,
          0.49929541749217765,
          0.49919978337076415,
          0.4990717538924243,
          0.49906242456556227,
          0.49898429087095186,
          0.49873637531091436,
          0.49845160239503006,
          0.49835665319683237,
          0.4980002626824668,
          0.49797684503818307,
          0.49765773311214156,
          0.4976330195956243,
          0.49759894702579227,
          0.4975282135829853,
          0.4974652611979952,
          0.4972043724917736,
          0.4967243469525826,
          0.4964191870245079,
          0.49622093029018266,
          0.4961718400908617,
          0.4961526751403608,
          0.4960279306605122,
          0.4960005937800114,
          0.49596388822668447,
          0.4959516034965912,
          0.4959002577271293,
          0.4958697229351972,
          0.4955292510944575,
          0.4955004684342507,
          0.4954226932960604,
          0.49525529374510313,
          0.49476599040845404,
          0.494646719349005,
          0.49436035201013284,
          0.4938052117773682,
          0.4937046792605195,
          0.49367899660178066,
          0.4934031680858822,
          0.49337122583209536,
          0.4930655250499577,
          0.49249879425634635,
          0.4924219675884603,
          0.49232949400359244,
          0.4922654349939679,
          0.4918363939301851,
          0.4918312236435393,
          0.4916850604988268,
          0.49162059923745294,
          0.4909252602781056,
          0.49089925180551197,
          0.4908957069960173,
          0.49080285186209366,
          0.49076794409924257,
          0.49029429328416185,
          0.49028789656481797,
          0.49008101498314255,
          0.48995737151899665,
          0.48994838372887056,
          0.48993770755021293,
          0.48979111295369326,
          0.4893172059007124,
          0.48888901659274303,
          0.4886832118960829,
          0.4885672682486213,
          0.48825671733670273,
          0.4881571800208988,
          0.4881141421043248,
          0.4881061145147094,
          0.4879028141117811,
          0.48778524624388186,
          0.48760942384650835,
          0.48753342409466316,
          0.48705565085204183,
          0.48671738926110086,
          0.48651516857813487,
          0.4863189287789271,
          0.4859925368222404,
          0.4858741724908579,
          0.4857531240221231,
          0.48539699441006606,
          0.4852195528241265,
          0.4851888925957363,
          0.48502385552137484,
          0.4849055211378968,
          0.48483142860459133,
          0.4845977379782571,
          0.48453192333532563,
          0.4844648754554887,
          0.48400956493305003,
          0.48391344885230764,
          0.48372239637661335,
          0.48347738406526836,
          0.4833196669823048,
          0.48327964887562574,
          0.48325736758403603,
          0.4831342785965509,
          0.48295258881092606,
          0.4825969520162555,
          0.482475692992474,
          0.4822486722897955,
          0.48219638683753063,
          0.48199265323108614,
          0.4815056896542527,
          0.48149159247787365,
          0.4814632881887093,
          0.481295582083268,
          0.48025169689123776,
          0.48001304681035695,
          0.4793267564062242,
          0.4792542871080384,
          0.4787655163271093,
          0.47822832977008534,
          0.4781897652359496,
          0.47798246454141174,
          0.47769025414619404,
          0.47749385149604484,
          0.4773680098546501,
          0.47728621857181336,
          0.4770125701546723,
          0.4767611275126798,
          0.4763280374934593,
          0.4760183055886566,
          0.47560319280013214,
          0.4753574103188601,
          0.47518015746015885,
          0.47510142249211823,
          0.47469879875228965,
          0.47452982433237784,
          0.47449665355821863,
          0.4737299392204535,
          0.4734852330153928,
          0.4733555604965409,
          0.47335486517924064,
          0.47243291819110306,
          0.47243137552566067,
          0.4722669074678465,
          0.4722189522193964,
          0.4721967274377774,
          0.47195082495912705,
          0.47192346262437657,
          0.4713831791029519,
          0.47057800392601223,
          0.47008986404819353,
          0.46964034816366296,
          0.46949116600478,
          0.4694448338462911,
          0.46918544609306656,
          0.4689412387929886,
          0.4687386722126571,
          0.46872686523398066,
          0.4680761978453506,
          0.46717376644602704,
          0.46697182158604944,
          0.46633040857971914,
          0.4662331705331729,
          0.4655110113856453,
          0.4653509758213736,
          0.46487550921824267,
          0.46436972699954854,
          0.46423554025527286,
          0.4641003841488979,
          0.4636174260841715,
          0.46325652722218447,
          0.46314456627650746,
          0.4617055361451236,
          0.46126678411820976,
          0.46114134857947436,
          0.460754213091381,
          0.4599572633264447,
          0.45972242152309917,
          0.459558313367583,
          0.4591706878112143,
          0.45898600227218744,
          0.4567869452076133,
          0.4565098823577817,
          0.4564233603601533,
          0.45605427715428937,
          0.4554740709478414,
          0.45504800589386685,
          0.45461375981390634,
          0.4534570683086617,
          0.45267930501004117,
          0.4526262654656992,
          0.4519664885598108,
          0.4515046247235675,
          0.45080854531907333,
          0.4504161938397882,
          0.4498805615999063,
          0.4498724363460791,
          0.44962592742613405,
          0.4486894409082854,
          0.44861294850347827,
          0.44860262120760436,
          0.44842743660274514,
          0.447988632822844,
          0.4457489424066771,
          0.4450882235511955,
          0.4450199740303912,
          0.44498999600337313,
          0.44465990764158,
          0.44440190221193837,
          0.44439559429729136,
          0.4443608144525326,
          0.4435066730835904,
          0.44349244158685663,
          0.4433072170351485,
          0.44313861639854224,
          0.44237083987092346,
          0.4410361551718025,
          0.43880037415338186,
          0.43871109609816605,
          0.4374057013481019,
          0.4364403285432786,
          0.4359251784504179,
          0.4357349049509424,
          0.43567876140994916,
          0.4355951370637886,
          0.43403798042753183,
          0.433306567713482,
          0.43329372275732697,
          0.4281433336318936,
          0.4278107187047876,
          0.4273136768981131,
          0.4221743078693934,
          0.4206025647405755,
          0.4203995296331981,
          0.4155075518942348,
          0.414573613566354,
          0.41399262801597836,
          0.41159630227708205,
          0.40939591306310485,
          0.40786282753181186,
          0.4049967673242749,
          0.3978907686220367,
          0.397315767647873,
          0.3949017684602065,
          0.38974221340197185,
          0.38840377435840445,
          0.38112105541350794,
          0.38009621793541853
         ],
         "yaxis": "y"
        }
       ],
       "layout": {
        "legend": {
         "tracegroupgap": 0
        },
        "margin": {
         "t": 60
        },
        "template": {
         "data": {
          "bar": [
           {
            "error_x": {
             "color": "#2a3f5f"
            },
            "error_y": {
             "color": "#2a3f5f"
            },
            "marker": {
             "line": {
              "color": "#E5ECF6",
              "width": 0.5
             },
             "pattern": {
              "fillmode": "overlay",
              "size": 10,
              "solidity": 0.2
             }
            },
            "type": "bar"
           }
          ],
          "barpolar": [
           {
            "marker": {
             "line": {
              "color": "#E5ECF6",
              "width": 0.5
             },
             "pattern": {
              "fillmode": "overlay",
              "size": 10,
              "solidity": 0.2
             }
            },
            "type": "barpolar"
           }
          ],
          "carpet": [
           {
            "aaxis": {
             "endlinecolor": "#2a3f5f",
             "gridcolor": "white",
             "linecolor": "white",
             "minorgridcolor": "white",
             "startlinecolor": "#2a3f5f"
            },
            "baxis": {
             "endlinecolor": "#2a3f5f",
             "gridcolor": "white",
             "linecolor": "white",
             "minorgridcolor": "white",
             "startlinecolor": "#2a3f5f"
            },
            "type": "carpet"
           }
          ],
          "choropleth": [
           {
            "colorbar": {
             "outlinewidth": 0,
             "ticks": ""
            },
            "type": "choropleth"
           }
          ],
          "contour": [
           {
            "colorbar": {
             "outlinewidth": 0,
             "ticks": ""
            },
            "colorscale": [
             [
              0,
              "#0d0887"
             ],
             [
              0.1111111111111111,
              "#46039f"
             ],
             [
              0.2222222222222222,
              "#7201a8"
             ],
             [
              0.3333333333333333,
              "#9c179e"
             ],
             [
              0.4444444444444444,
              "#bd3786"
             ],
             [
              0.5555555555555556,
              "#d8576b"
             ],
             [
              0.6666666666666666,
              "#ed7953"
             ],
             [
              0.7777777777777778,
              "#fb9f3a"
             ],
             [
              0.8888888888888888,
              "#fdca26"
             ],
             [
              1,
              "#f0f921"
             ]
            ],
            "type": "contour"
           }
          ],
          "contourcarpet": [
           {
            "colorbar": {
             "outlinewidth": 0,
             "ticks": ""
            },
            "type": "contourcarpet"
           }
          ],
          "heatmap": [
           {
            "colorbar": {
             "outlinewidth": 0,
             "ticks": ""
            },
            "colorscale": [
             [
              0,
              "#0d0887"
             ],
             [
              0.1111111111111111,
              "#46039f"
             ],
             [
              0.2222222222222222,
              "#7201a8"
             ],
             [
              0.3333333333333333,
              "#9c179e"
             ],
             [
              0.4444444444444444,
              "#bd3786"
             ],
             [
              0.5555555555555556,
              "#d8576b"
             ],
             [
              0.6666666666666666,
              "#ed7953"
             ],
             [
              0.7777777777777778,
              "#fb9f3a"
             ],
             [
              0.8888888888888888,
              "#fdca26"
             ],
             [
              1,
              "#f0f921"
             ]
            ],
            "type": "heatmap"
           }
          ],
          "heatmapgl": [
           {
            "colorbar": {
             "outlinewidth": 0,
             "ticks": ""
            },
            "colorscale": [
             [
              0,
              "#0d0887"
             ],
             [
              0.1111111111111111,
              "#46039f"
             ],
             [
              0.2222222222222222,
              "#7201a8"
             ],
             [
              0.3333333333333333,
              "#9c179e"
             ],
             [
              0.4444444444444444,
              "#bd3786"
             ],
             [
              0.5555555555555556,
              "#d8576b"
             ],
             [
              0.6666666666666666,
              "#ed7953"
             ],
             [
              0.7777777777777778,
              "#fb9f3a"
             ],
             [
              0.8888888888888888,
              "#fdca26"
             ],
             [
              1,
              "#f0f921"
             ]
            ],
            "type": "heatmapgl"
           }
          ],
          "histogram": [
           {
            "marker": {
             "pattern": {
              "fillmode": "overlay",
              "size": 10,
              "solidity": 0.2
             }
            },
            "type": "histogram"
           }
          ],
          "histogram2d": [
           {
            "colorbar": {
             "outlinewidth": 0,
             "ticks": ""
            },
            "colorscale": [
             [
              0,
              "#0d0887"
             ],
             [
              0.1111111111111111,
              "#46039f"
             ],
             [
              0.2222222222222222,
              "#7201a8"
             ],
             [
              0.3333333333333333,
              "#9c179e"
             ],
             [
              0.4444444444444444,
              "#bd3786"
             ],
             [
              0.5555555555555556,
              "#d8576b"
             ],
             [
              0.6666666666666666,
              "#ed7953"
             ],
             [
              0.7777777777777778,
              "#fb9f3a"
             ],
             [
              0.8888888888888888,
              "#fdca26"
             ],
             [
              1,
              "#f0f921"
             ]
            ],
            "type": "histogram2d"
           }
          ],
          "histogram2dcontour": [
           {
            "colorbar": {
             "outlinewidth": 0,
             "ticks": ""
            },
            "colorscale": [
             [
              0,
              "#0d0887"
             ],
             [
              0.1111111111111111,
              "#46039f"
             ],
             [
              0.2222222222222222,
              "#7201a8"
             ],
             [
              0.3333333333333333,
              "#9c179e"
             ],
             [
              0.4444444444444444,
              "#bd3786"
             ],
             [
              0.5555555555555556,
              "#d8576b"
             ],
             [
              0.6666666666666666,
              "#ed7953"
             ],
             [
              0.7777777777777778,
              "#fb9f3a"
             ],
             [
              0.8888888888888888,
              "#fdca26"
             ],
             [
              1,
              "#f0f921"
             ]
            ],
            "type": "histogram2dcontour"
           }
          ],
          "mesh3d": [
           {
            "colorbar": {
             "outlinewidth": 0,
             "ticks": ""
            },
            "type": "mesh3d"
           }
          ],
          "parcoords": [
           {
            "line": {
             "colorbar": {
              "outlinewidth": 0,
              "ticks": ""
             }
            },
            "type": "parcoords"
           }
          ],
          "pie": [
           {
            "automargin": true,
            "type": "pie"
           }
          ],
          "scatter": [
           {
            "fillpattern": {
             "fillmode": "overlay",
             "size": 10,
             "solidity": 0.2
            },
            "type": "scatter"
           }
          ],
          "scatter3d": [
           {
            "line": {
             "colorbar": {
              "outlinewidth": 0,
              "ticks": ""
             }
            },
            "marker": {
             "colorbar": {
              "outlinewidth": 0,
              "ticks": ""
             }
            },
            "type": "scatter3d"
           }
          ],
          "scattercarpet": [
           {
            "marker": {
             "colorbar": {
              "outlinewidth": 0,
              "ticks": ""
             }
            },
            "type": "scattercarpet"
           }
          ],
          "scattergeo": [
           {
            "marker": {
             "colorbar": {
              "outlinewidth": 0,
              "ticks": ""
             }
            },
            "type": "scattergeo"
           }
          ],
          "scattergl": [
           {
            "marker": {
             "colorbar": {
              "outlinewidth": 0,
              "ticks": ""
             }
            },
            "type": "scattergl"
           }
          ],
          "scattermapbox": [
           {
            "marker": {
             "colorbar": {
              "outlinewidth": 0,
              "ticks": ""
             }
            },
            "type": "scattermapbox"
           }
          ],
          "scatterpolar": [
           {
            "marker": {
             "colorbar": {
              "outlinewidth": 0,
              "ticks": ""
             }
            },
            "type": "scatterpolar"
           }
          ],
          "scatterpolargl": [
           {
            "marker": {
             "colorbar": {
              "outlinewidth": 0,
              "ticks": ""
             }
            },
            "type": "scatterpolargl"
           }
          ],
          "scatterternary": [
           {
            "marker": {
             "colorbar": {
              "outlinewidth": 0,
              "ticks": ""
             }
            },
            "type": "scatterternary"
           }
          ],
          "surface": [
           {
            "colorbar": {
             "outlinewidth": 0,
             "ticks": ""
            },
            "colorscale": [
             [
              0,
              "#0d0887"
             ],
             [
              0.1111111111111111,
              "#46039f"
             ],
             [
              0.2222222222222222,
              "#7201a8"
             ],
             [
              0.3333333333333333,
              "#9c179e"
             ],
             [
              0.4444444444444444,
              "#bd3786"
             ],
             [
              0.5555555555555556,
              "#d8576b"
             ],
             [
              0.6666666666666666,
              "#ed7953"
             ],
             [
              0.7777777777777778,
              "#fb9f3a"
             ],
             [
              0.8888888888888888,
              "#fdca26"
             ],
             [
              1,
              "#f0f921"
             ]
            ],
            "type": "surface"
           }
          ],
          "table": [
           {
            "cells": {
             "fill": {
              "color": "#EBF0F8"
             },
             "line": {
              "color": "white"
             }
            },
            "header": {
             "fill": {
              "color": "#C8D4E3"
             },
             "line": {
              "color": "white"
             }
            },
            "type": "table"
           }
          ]
         },
         "layout": {
          "annotationdefaults": {
           "arrowcolor": "#2a3f5f",
           "arrowhead": 0,
           "arrowwidth": 1
          },
          "autotypenumbers": "strict",
          "coloraxis": {
           "colorbar": {
            "outlinewidth": 0,
            "ticks": ""
           }
          },
          "colorscale": {
           "diverging": [
            [
             0,
             "#8e0152"
            ],
            [
             0.1,
             "#c51b7d"
            ],
            [
             0.2,
             "#de77ae"
            ],
            [
             0.3,
             "#f1b6da"
            ],
            [
             0.4,
             "#fde0ef"
            ],
            [
             0.5,
             "#f7f7f7"
            ],
            [
             0.6,
             "#e6f5d0"
            ],
            [
             0.7,
             "#b8e186"
            ],
            [
             0.8,
             "#7fbc41"
            ],
            [
             0.9,
             "#4d9221"
            ],
            [
             1,
             "#276419"
            ]
           ],
           "sequential": [
            [
             0,
             "#0d0887"
            ],
            [
             0.1111111111111111,
             "#46039f"
            ],
            [
             0.2222222222222222,
             "#7201a8"
            ],
            [
             0.3333333333333333,
             "#9c179e"
            ],
            [
             0.4444444444444444,
             "#bd3786"
            ],
            [
             0.5555555555555556,
             "#d8576b"
            ],
            [
             0.6666666666666666,
             "#ed7953"
            ],
            [
             0.7777777777777778,
             "#fb9f3a"
            ],
            [
             0.8888888888888888,
             "#fdca26"
            ],
            [
             1,
             "#f0f921"
            ]
           ],
           "sequentialminus": [
            [
             0,
             "#0d0887"
            ],
            [
             0.1111111111111111,
             "#46039f"
            ],
            [
             0.2222222222222222,
             "#7201a8"
            ],
            [
             0.3333333333333333,
             "#9c179e"
            ],
            [
             0.4444444444444444,
             "#bd3786"
            ],
            [
             0.5555555555555556,
             "#d8576b"
            ],
            [
             0.6666666666666666,
             "#ed7953"
            ],
            [
             0.7777777777777778,
             "#fb9f3a"
            ],
            [
             0.8888888888888888,
             "#fdca26"
            ],
            [
             1,
             "#f0f921"
            ]
           ]
          },
          "colorway": [
           "#636efa",
           "#EF553B",
           "#00cc96",
           "#ab63fa",
           "#FFA15A",
           "#19d3f3",
           "#FF6692",
           "#B6E880",
           "#FF97FF",
           "#FECB52"
          ],
          "font": {
           "color": "#2a3f5f"
          },
          "geo": {
           "bgcolor": "white",
           "lakecolor": "white",
           "landcolor": "#E5ECF6",
           "showlakes": true,
           "showland": true,
           "subunitcolor": "white"
          },
          "hoverlabel": {
           "align": "left"
          },
          "hovermode": "closest",
          "mapbox": {
           "style": "light"
          },
          "paper_bgcolor": "white",
          "plot_bgcolor": "#E5ECF6",
          "polar": {
           "angularaxis": {
            "gridcolor": "white",
            "linecolor": "white",
            "ticks": ""
           },
           "bgcolor": "#E5ECF6",
           "radialaxis": {
            "gridcolor": "white",
            "linecolor": "white",
            "ticks": ""
           }
          },
          "scene": {
           "xaxis": {
            "backgroundcolor": "#E5ECF6",
            "gridcolor": "white",
            "gridwidth": 2,
            "linecolor": "white",
            "showbackground": true,
            "ticks": "",
            "zerolinecolor": "white"
           },
           "yaxis": {
            "backgroundcolor": "#E5ECF6",
            "gridcolor": "white",
            "gridwidth": 2,
            "linecolor": "white",
            "showbackground": true,
            "ticks": "",
            "zerolinecolor": "white"
           },
           "zaxis": {
            "backgroundcolor": "#E5ECF6",
            "gridcolor": "white",
            "gridwidth": 2,
            "linecolor": "white",
            "showbackground": true,
            "ticks": "",
            "zerolinecolor": "white"
           }
          },
          "shapedefaults": {
           "line": {
            "color": "#2a3f5f"
           }
          },
          "ternary": {
           "aaxis": {
            "gridcolor": "white",
            "linecolor": "white",
            "ticks": ""
           },
           "baxis": {
            "gridcolor": "white",
            "linecolor": "white",
            "ticks": ""
           },
           "bgcolor": "#E5ECF6",
           "caxis": {
            "gridcolor": "white",
            "linecolor": "white",
            "ticks": ""
           }
          },
          "title": {
           "x": 0.05
          },
          "xaxis": {
           "automargin": true,
           "gridcolor": "white",
           "linecolor": "white",
           "ticks": "",
           "title": {
            "standoff": 15
           },
           "zerolinecolor": "white",
           "zerolinewidth": 2
          },
          "yaxis": {
           "automargin": true,
           "gridcolor": "white",
           "linecolor": "white",
           "ticks": "",
           "title": {
            "standoff": 15
           },
           "zerolinecolor": "white",
           "zerolinewidth": 2
          }
         }
        },
        "title": {
         "text": "Distance to Sydney CBD vs Sigmoid Function Score"
        },
        "xaxis": {
         "anchor": "y",
         "domain": [
          0,
          1
         ],
         "title": {
          "text": "Distance to Sydney CBD (km)"
         }
        },
        "yaxis": {
         "anchor": "x",
         "domain": [
          0,
          1
         ],
         "title": {
          "text": "Sigmoid Function Score"
         }
        }
       }
      }
     },
     "metadata": {},
     "output_type": "display_data"
    }
   ],
   "source": [
    "# plot using plotly express\n",
    "import plotly.express as px\n",
    "\n",
    "fig = px.scatter(sig, x='distance_to_cbd_km', y='final_score_zsum', trendline='ols')\n",
    "fig.update_traces(marker=dict(color='blue'))\n",
    "fig.update_traces(line=dict(color='darkblue'))\n",
    "fig.update_xaxes(title_text='Distance to Sydney CBD (km)')\n",
    "fig.update_yaxes(title_text='Sigmoid Function Score')\n",
    "fig.update_layout(title='Distance to Sydney CBD vs Sigmoid Function Score')\n",
    "fig.update_traces(hovertemplate='Distance to CBD: %{x:.3f} km<br>Sigmoid Function Score: %{y:.3f}')\n",
    "fig.show()\n",
    "\n"
   ]
  },
  {
   "cell_type": "markdown",
   "id": "c5eb7ff7",
   "metadata": {},
   "source": [
    "The scatterplot created using `plotly.express` visualises the trend. A slight negative relationship can be observed, however, the relationship is not significant. Therefore, the 'bustling' metric is not dependent on the distance from the CBD."
   ]
  },
  {
   "cell_type": "markdown",
   "id": "514e013d",
   "metadata": {},
   "source": [
    "## Comparison of East and West Sydney"
   ]
  },
  {
   "cell_type": "markdown",
   "id": "3ca7081a",
   "metadata": {},
   "source": [
    "Given that both economic and social factors were utilised in the creation of the 'bustling' metric, it would be interesting to compare the scores outputed by the sigmoid function for East and West Sydney. A simple t-test assuming equal variance can be conducted in order to evaluate whether there is a significant difference between the two groups.  "
   ]
  },
  {
   "cell_type": "code",
   "execution_count": 24,
   "id": "e8d4c1d3",
   "metadata": {},
   "outputs": [],
   "source": [
    "# create east_west variable\n",
    "sql = \"\"\"\n",
    "WITH east_west AS (\n",
    "    SELECT \n",
    "        sa2_code21, \n",
    "        sa2_name21, \n",
    "        CASE \n",
    "            WHEN ST_XMax(geom) > 151.1511 THEN 'East' \n",
    "            ELSE 'West' \n",
    "        END AS east_west\n",
    "    FROM \n",
    "        sa2\n",
    ")\n",
    "SELECT\n",
    "    sa2_code21,\n",
    "    sa2_name21,\n",
    "    east_west\n",
    "FROM\n",
    "    east_west;\n",
    "\"\"\"\n",
    "\n",
    "east_west = query(conn, sql)\n",
    "east_west.to_csv('east_west.csv', index=False)"
   ]
  },
  {
   "cell_type": "code",
   "execution_count": 25,
   "id": "2169126c",
   "metadata": {},
   "outputs": [],
   "source": [
    "# merge east_west with sig\n",
    "east_west = pd.read_csv('east_west.csv')\n",
    "sig = sig.merge(east_west, on=['sa2_code21', 'sa2_name21'], how='left')"
   ]
  },
  {
   "cell_type": "code",
   "execution_count": 28,
   "id": "88020dbd",
   "metadata": {},
   "outputs": [
    {
     "data": {
      "text/plain": [
       "TtestResult(statistic=-0.02013804476529405, pvalue=0.9839442547718726, df=365.0)"
      ]
     },
     "execution_count": 28,
     "metadata": {},
     "output_type": "execute_result"
    }
   ],
   "source": [
    "# perform t-test sigmoid ~ east_west\n",
    "from scipy import stats\n",
    "\n",
    "east = sig[sig['east_west'] == 'East']\n",
    "west = sig[sig['east_west'] == 'West']\n",
    "\n",
    "ttest = stats.ttest_ind(east['final_score_zsum'], west['final_score_zsum'])\n",
    "ttest"
   ]
  },
  {
   "cell_type": "markdown",
   "id": "86e21a6c",
   "metadata": {},
   "source": [
    "The two-sample t-test revelaed a non-singificant difference in the sigmoid function scores (t = 0.020, p = 0.984, df = 365). This suggests that there is no difference in 'bustlingness' between East and West Sydney. "
   ]
  },
  {
   "cell_type": "code",
   "execution_count": 29,
   "id": "dea03b89",
   "metadata": {},
   "outputs": [
    {
     "data": {
      "application/vnd.plotly.v1+json": {
       "config": {
        "plotlyServerURL": "https://plot.ly"
       },
       "data": [
        {
         "alignmentgroup": "True",
         "boxpoints": "all",
         "hovertemplate": "East/West: %{x}<br>Sigmoid Function Score: %{y:.3f}",
         "legendgroup": "",
         "line": {
          "color": "darkblue"
         },
         "marker": {
          "color": "blue"
         },
         "name": "",
         "notched": false,
         "offsetgroup": "",
         "orientation": "v",
         "showlegend": false,
         "type": "box",
         "x": [
          "West",
          "East",
          "West",
          "East",
          "West",
          "West",
          "East",
          "West",
          "East",
          "East",
          "West",
          "West",
          "West",
          "East",
          "East",
          "West",
          "East",
          "East",
          "East",
          "West",
          "West",
          "West",
          "East",
          "West",
          "West",
          "West",
          "West",
          "East",
          "West",
          "East",
          "West",
          "East",
          "West",
          "East",
          "West",
          "East",
          "West",
          "West",
          "East",
          "West",
          "East",
          "East",
          "East",
          "East",
          "West",
          "West",
          "East",
          "West",
          "West",
          "West",
          "West",
          "West",
          "West",
          "East",
          "West",
          "East",
          "West",
          "West",
          "West",
          "East",
          "West",
          "East",
          "West",
          "West",
          "West",
          "West",
          "West",
          "West",
          "West",
          "West",
          "East",
          "West",
          "West",
          "West",
          "West",
          "West",
          "East",
          "West",
          "West",
          "West",
          "East",
          "East",
          "West",
          "West",
          "East",
          "East",
          "West",
          "West",
          "West",
          "West",
          "West",
          "West",
          "West",
          "West",
          "East",
          "East",
          "East",
          "East",
          "West",
          "West",
          "East",
          "East",
          "East",
          "West",
          "West",
          "West",
          "West",
          "East",
          "West",
          "West",
          "East",
          "West",
          "West",
          "West",
          "West",
          "West",
          "East",
          "West",
          "East",
          "West",
          "East",
          "West",
          "West",
          "West",
          "East",
          "West",
          "West",
          "West",
          "East",
          "East",
          "West",
          "East",
          "West",
          "West",
          "West",
          "East",
          "West",
          "West",
          "West",
          "East",
          "West",
          "West",
          "West",
          "West",
          "West",
          "East",
          "West",
          "West",
          "West",
          "East",
          "East",
          "East",
          "West",
          "West",
          "West",
          "East",
          "East",
          "East",
          "East",
          "West",
          "East",
          "West",
          "West",
          "West",
          "West",
          "West",
          "West",
          "West",
          "West",
          "West",
          "West",
          "East",
          "West",
          "West",
          "East",
          "East",
          "West",
          "West",
          "West",
          "West",
          "West",
          "East",
          "East",
          "West",
          "West",
          "West",
          "West",
          "East",
          "East",
          "West",
          "West",
          "West",
          "West",
          "East",
          "East",
          "East",
          "East",
          "West",
          "West",
          "West",
          "West",
          "West",
          "East",
          "West",
          "West",
          "East",
          "East",
          "West",
          "East",
          "East",
          "West",
          "West",
          "West",
          "West",
          "West",
          "West",
          "East",
          "West",
          "West",
          "West",
          "West",
          "West",
          "West",
          "West",
          "West",
          "West",
          "East",
          "West",
          "West",
          "East",
          "West",
          "West",
          "West",
          "East",
          "East",
          "East",
          "East",
          "East",
          "East",
          "West",
          "West",
          "East",
          "West",
          "East",
          "West",
          "West",
          "East",
          "East",
          "East",
          "East",
          "West",
          "West",
          "West",
          "East",
          "West",
          "West",
          "West",
          "West",
          "West",
          "West",
          "East",
          "East",
          "West",
          "East",
          "West",
          "East",
          "East",
          "East",
          "East",
          "West",
          "West",
          "East",
          "East",
          "West",
          "West",
          "West",
          "West",
          "West",
          "East",
          "West",
          "West",
          "West",
          "West",
          "West",
          "East",
          "West",
          "East",
          "West",
          "East",
          "East",
          "East",
          "West",
          "East",
          "East",
          "West",
          "East",
          "West",
          "West",
          "West",
          "West",
          "East",
          "West",
          "East",
          "West",
          "East",
          "West",
          "West",
          "East",
          "East",
          "West",
          "East",
          "West",
          "East",
          "East",
          "West",
          "East",
          "West",
          "West",
          "West",
          "West",
          "West",
          "East",
          "East",
          "West",
          "West",
          "East",
          "East",
          "West",
          "West",
          "West",
          "West",
          "West",
          "West",
          "West",
          "East",
          "West",
          "West",
          "East",
          "West",
          "East",
          "West",
          "West",
          "East",
          "West",
          "West",
          "West",
          "West",
          "West",
          "East",
          "East",
          "West",
          "West",
          "West",
          "West",
          "West",
          "West",
          "West",
          "East",
          "East",
          "West",
          "West",
          "West",
          "West",
          "West",
          "East",
          "West",
          "West"
         ],
         "x0": " ",
         "xaxis": "x",
         "y": [
          0.9999961852227692,
          0.9999365738848496,
          0.9998360877371686,
          0.9998169276227882,
          0.9998066636636034,
          0.9986811515589336,
          0.9986507780442252,
          0.9980486465607185,
          0.99773345865318,
          0.996917070685428,
          0.99624689930093,
          0.99570483058227,
          0.995117719142294,
          0.9946696377428352,
          0.9945082904957774,
          0.9944985574766136,
          0.9940140006878302,
          0.9930543143919428,
          0.99281529726703,
          0.9925738077505636,
          0.9916583103927596,
          0.989159275746403,
          0.988958668530326,
          0.988334148251606,
          0.988230701361327,
          0.9868708053611986,
          0.9866145688048912,
          0.9861860300701942,
          0.9830997407607868,
          0.9828770234891528,
          0.980539087050287,
          0.9801359062293152,
          0.980056053412923,
          0.9787079909456992,
          0.9773473560723358,
          0.9766406774866032,
          0.97021395127341,
          0.9668143294214624,
          0.9666245124014669,
          0.9664458119195783,
          0.9650818596750572,
          0.9639123793561712,
          0.9595640063079576,
          0.959341589960452,
          0.9576271841409294,
          0.954655728364502,
          0.9533813627228256,
          0.9460160041687258,
          0.9437765488650696,
          0.9425998128636028,
          0.94081520414679,
          0.9407858415053446,
          0.9381306220582264,
          0.9379035994214956,
          0.9358139526679484,
          0.9357223952703289,
          0.9313291964311956,
          0.9312709035927434,
          0.9305296597973584,
          0.9295672481441756,
          0.9271833892673172,
          0.9238529222696484,
          0.921118706460079,
          0.9207570575060514,
          0.917138252296562,
          0.9137964466774854,
          0.9120669432930024,
          0.909432022655692,
          0.9093874363613368,
          0.9074386531225592,
          0.9072470559469112,
          0.9027880788844878,
          0.9004762342518075,
          0.897652005229915,
          0.8973030442454377,
          0.8969574270110078,
          0.8868204147234507,
          0.8860335052289562,
          0.8857978424567069,
          0.8834433367200677,
          0.8804962366486819,
          0.8803362274493308,
          0.8792310434973524,
          0.8702594092398194,
          0.8675847335275935,
          0.8669796020239086,
          0.8651012421475257,
          0.8613377389321741,
          0.8561733228094272,
          0.8556548372094944,
          0.8528961907332491,
          0.8471714520996599,
          0.846346517585945,
          0.8385516290418117,
          0.8356436672231643,
          0.8296808116657882,
          0.8283575489334114,
          0.8282708720024635,
          0.8225959723621384,
          0.8147733304363071,
          0.814500524768384,
          0.811784157885073,
          0.8114004120989907,
          0.8030120225108133,
          0.8016997855797328,
          0.794792688883949,
          0.7945513440635964,
          0.7866000607002682,
          0.7856784468856763,
          0.7808501231464503,
          0.7793309117840591,
          0.7777963665258715,
          0.7732961054000763,
          0.7666737917420168,
          0.766283887645943,
          0.7596865369959008,
          0.7505771483954966,
          0.7455651758217382,
          0.740561387980401,
          0.7299138529564418,
          0.7165330757238411,
          0.7142941175621084,
          0.7137564607517004,
          0.7102463550478118,
          0.7093956626807868,
          0.7032440415844232,
          0.7016007341060817,
          0.6917639718009269,
          0.6868658399707975,
          0.6849624944357243,
          0.6754481452592703,
          0.6732121663884508,
          0.6707046209426318,
          0.6685354328713059,
          0.6673790171307945,
          0.6645993864366737,
          0.6641360784868333,
          0.6638937367096898,
          0.6606822823036258,
          0.6596690610256766,
          0.6533818189069897,
          0.6477465078764145,
          0.644302309820106,
          0.6410076192006353,
          0.6318612432533495,
          0.6299560989837324,
          0.6209231780981143,
          0.6194664932564241,
          0.6145979410213053,
          0.6145701868215815,
          0.5979168029147166,
          0.594452500534015,
          0.593949960472613,
          0.5864105526589745,
          0.5863593259091705,
          0.5853966563443863,
          0.577002446284875,
          0.5709720607742906,
          0.5695631446206044,
          0.5640800725841644,
          0.5588880968842337,
          0.5558867613978052,
          0.5529135196999514,
          0.5518475633752388,
          0.5470134045871998,
          0.544794458712033,
          0.5431770696211008,
          0.5412611884316308,
          0.5386712080002124,
          0.5380083648133831,
          0.5359038009323879,
          0.5304603454308288,
          0.5292561123697133,
          0.5238642049742965,
          0.516674788601917,
          0.5109381642033517,
          0.5007347913666828,
          0.4986674671231614,
          0.4931122794226331,
          0.4930483804213596,
          0.4887590112111132,
          0.4851708614701008,
          0.4819737816590714,
          0.4768082779336555,
          0.4578480447420508,
          0.4534666694386175,
          0.4456306743951754,
          0.4434615192413117,
          0.4406295463447901,
          0.4351739354807613,
          0.434208075792207,
          0.4218795723713195,
          0.4132598186690658,
          0.4111306984986191,
          0.409725802796872,
          0.4050921777427975,
          0.3960845026269496,
          0.3891634264708813,
          0.3804067410678733,
          0.3801154926109624,
          0.3791271885964843,
          0.3728490489160698,
          0.3520813023609402,
          0.3459307538117547,
          0.3435804115898113,
          0.3358954121166028,
          0.3355806530880708,
          0.3350036969170535,
          0.3270817495719509,
          0.3213283367187777,
          0.3181331501629466,
          0.3141103822752594,
          0.3091667483464066,
          0.3061773775240564,
          0.3051536781866056,
          0.2966446085518059,
          0.2962846323347212,
          0.2909457666035929,
          0.283033770495284,
          0.2794649612343206,
          0.2783910218118097,
          0.2783715373974348,
          0.2772156258464547,
          0.2646797786680442,
          0.2617683857764871,
          0.2608472848502685,
          0.2557018798865546,
          0.2546672109211301,
          0.252363501766825,
          0.2521314008007215,
          0.2495048787856557,
          0.2423474734702797,
          0.2407471061275582,
          0.2406698336571316,
          0.2361358326926489,
          0.2358692243172154,
          0.2268806948319331,
          0.2198588952118322,
          0.2167774837646914,
          0.2140861399049943,
          0.2135440746575784,
          0.2116330686422323,
          0.2094099029566619,
          0.2077990224370637,
          0.2070206266194228,
          0.201071263567596,
          0.1954595473231472,
          0.1898805659864532,
          0.1882608898124893,
          0.1828323475622919,
          0.1817162005921563,
          0.180890897843094,
          0.1790921809361987,
          0.1745060961159518,
          0.1721894344418198,
          0.1714685674688978,
          0.1652172513279016,
          0.163743959598982,
          0.1558927734939006,
          0.1548182850492472,
          0.1524748584237495,
          0.1518264850861138,
          0.1510970489117198,
          0.1507668852946284,
          0.1449717191856838,
          0.143884322126829,
          0.1425846785680855,
          0.1419663371079745,
          0.1415244770860373,
          0.140772159970004,
          0.1356840028491442,
          0.1349840709156919,
          0.1345269697728917,
          0.1336686977921126,
          0.1303182416829634,
          0.1286058350981598,
          0.1270751453514872,
          0.1268975647994214,
          0.1256843711292582,
          0.1221480365387628,
          0.1181214637537573,
          0.1176051656882923,
          0.1175390497129967,
          0.1174276481982749,
          0.1174219401069726,
          0.1160179247401195,
          0.1142219619651454,
          0.1108077853865321,
          0.1084081073399392,
          0.1082243910352009,
          0.1081134717528874,
          0.1057554869354681,
          0.1033261634628928,
          0.1032597174145963,
          0.103202343213774,
          0.1028851128940131,
          0.1008041425872798,
          0.0981257088296515,
          0.0935283909084743,
          0.0892924977557408,
          0.0892765386939812,
          0.0879392103159713,
          0.0870261799771772,
          0.0868675254899314,
          0.0812406549074309,
          0.081237381310211,
          0.0795761944751572,
          0.0782900396267622,
          0.078265173563226,
          0.0733426725310199,
          0.0709668855376951,
          0.0696215381755772,
          0.0689503815208042,
          0.0686127904603427,
          0.0679681213608089,
          0.0658918358075932,
          0.0650649335188887,
          0.0647288275995072,
          0.0631864627937309,
          0.0618558372744076,
          0.0614930547187863,
          0.0600215285044729,
          0.0578830726780632,
          0.054189409311017,
          0.0527231762329237,
          0.052314153098678,
          0.0519933136506214,
          0.0513899041937321,
          0.050896272331768,
          0.0508056169168438,
          0.0498566444057581,
          0.0495743363459415,
          0.0456112670943148,
          0.0454016413433592,
          0.0446406185457787,
          0.0443223053302029,
          0.043876368330242,
          0.043828255178136,
          0.0431165246326601,
          0.0424635302202258,
          0.0412286404372824,
          0.040818837805822,
          0.0333962388948883,
          0.0331692294067161,
          0.0293644207830407,
          0.0293574747072826,
          0.0285986692719438,
          0.0281482622463526,
          0.0278734011204483,
          0.0275090521197383,
          0.0251126360368502,
          0.0242313631979668,
          0.0230219203879875,
          0.0215948946310348,
          0.0214038679241146,
          0.0209830538038354,
          0.019725995360894,
          0.0165096728806559,
          0.0149142229747001,
          0.0146268475678622,
          0.0128438644606816,
          0.0107865184729845,
          0.0096993697359217,
          0.0094231374166433,
          0.0091667651056408,
          0.0070422197450959,
          0.0059784979599238
         ],
         "y0": " ",
         "yaxis": "y"
        }
       ],
       "layout": {
        "boxmode": "group",
        "legend": {
         "tracegroupgap": 0
        },
        "margin": {
         "t": 60
        },
        "template": {
         "data": {
          "bar": [
           {
            "error_x": {
             "color": "#2a3f5f"
            },
            "error_y": {
             "color": "#2a3f5f"
            },
            "marker": {
             "line": {
              "color": "#E5ECF6",
              "width": 0.5
             },
             "pattern": {
              "fillmode": "overlay",
              "size": 10,
              "solidity": 0.2
             }
            },
            "type": "bar"
           }
          ],
          "barpolar": [
           {
            "marker": {
             "line": {
              "color": "#E5ECF6",
              "width": 0.5
             },
             "pattern": {
              "fillmode": "overlay",
              "size": 10,
              "solidity": 0.2
             }
            },
            "type": "barpolar"
           }
          ],
          "carpet": [
           {
            "aaxis": {
             "endlinecolor": "#2a3f5f",
             "gridcolor": "white",
             "linecolor": "white",
             "minorgridcolor": "white",
             "startlinecolor": "#2a3f5f"
            },
            "baxis": {
             "endlinecolor": "#2a3f5f",
             "gridcolor": "white",
             "linecolor": "white",
             "minorgridcolor": "white",
             "startlinecolor": "#2a3f5f"
            },
            "type": "carpet"
           }
          ],
          "choropleth": [
           {
            "colorbar": {
             "outlinewidth": 0,
             "ticks": ""
            },
            "type": "choropleth"
           }
          ],
          "contour": [
           {
            "colorbar": {
             "outlinewidth": 0,
             "ticks": ""
            },
            "colorscale": [
             [
              0,
              "#0d0887"
             ],
             [
              0.1111111111111111,
              "#46039f"
             ],
             [
              0.2222222222222222,
              "#7201a8"
             ],
             [
              0.3333333333333333,
              "#9c179e"
             ],
             [
              0.4444444444444444,
              "#bd3786"
             ],
             [
              0.5555555555555556,
              "#d8576b"
             ],
             [
              0.6666666666666666,
              "#ed7953"
             ],
             [
              0.7777777777777778,
              "#fb9f3a"
             ],
             [
              0.8888888888888888,
              "#fdca26"
             ],
             [
              1,
              "#f0f921"
             ]
            ],
            "type": "contour"
           }
          ],
          "contourcarpet": [
           {
            "colorbar": {
             "outlinewidth": 0,
             "ticks": ""
            },
            "type": "contourcarpet"
           }
          ],
          "heatmap": [
           {
            "colorbar": {
             "outlinewidth": 0,
             "ticks": ""
            },
            "colorscale": [
             [
              0,
              "#0d0887"
             ],
             [
              0.1111111111111111,
              "#46039f"
             ],
             [
              0.2222222222222222,
              "#7201a8"
             ],
             [
              0.3333333333333333,
              "#9c179e"
             ],
             [
              0.4444444444444444,
              "#bd3786"
             ],
             [
              0.5555555555555556,
              "#d8576b"
             ],
             [
              0.6666666666666666,
              "#ed7953"
             ],
             [
              0.7777777777777778,
              "#fb9f3a"
             ],
             [
              0.8888888888888888,
              "#fdca26"
             ],
             [
              1,
              "#f0f921"
             ]
            ],
            "type": "heatmap"
           }
          ],
          "heatmapgl": [
           {
            "colorbar": {
             "outlinewidth": 0,
             "ticks": ""
            },
            "colorscale": [
             [
              0,
              "#0d0887"
             ],
             [
              0.1111111111111111,
              "#46039f"
             ],
             [
              0.2222222222222222,
              "#7201a8"
             ],
             [
              0.3333333333333333,
              "#9c179e"
             ],
             [
              0.4444444444444444,
              "#bd3786"
             ],
             [
              0.5555555555555556,
              "#d8576b"
             ],
             [
              0.6666666666666666,
              "#ed7953"
             ],
             [
              0.7777777777777778,
              "#fb9f3a"
             ],
             [
              0.8888888888888888,
              "#fdca26"
             ],
             [
              1,
              "#f0f921"
             ]
            ],
            "type": "heatmapgl"
           }
          ],
          "histogram": [
           {
            "marker": {
             "pattern": {
              "fillmode": "overlay",
              "size": 10,
              "solidity": 0.2
             }
            },
            "type": "histogram"
           }
          ],
          "histogram2d": [
           {
            "colorbar": {
             "outlinewidth": 0,
             "ticks": ""
            },
            "colorscale": [
             [
              0,
              "#0d0887"
             ],
             [
              0.1111111111111111,
              "#46039f"
             ],
             [
              0.2222222222222222,
              "#7201a8"
             ],
             [
              0.3333333333333333,
              "#9c179e"
             ],
             [
              0.4444444444444444,
              "#bd3786"
             ],
             [
              0.5555555555555556,
              "#d8576b"
             ],
             [
              0.6666666666666666,
              "#ed7953"
             ],
             [
              0.7777777777777778,
              "#fb9f3a"
             ],
             [
              0.8888888888888888,
              "#fdca26"
             ],
             [
              1,
              "#f0f921"
             ]
            ],
            "type": "histogram2d"
           }
          ],
          "histogram2dcontour": [
           {
            "colorbar": {
             "outlinewidth": 0,
             "ticks": ""
            },
            "colorscale": [
             [
              0,
              "#0d0887"
             ],
             [
              0.1111111111111111,
              "#46039f"
             ],
             [
              0.2222222222222222,
              "#7201a8"
             ],
             [
              0.3333333333333333,
              "#9c179e"
             ],
             [
              0.4444444444444444,
              "#bd3786"
             ],
             [
              0.5555555555555556,
              "#d8576b"
             ],
             [
              0.6666666666666666,
              "#ed7953"
             ],
             [
              0.7777777777777778,
              "#fb9f3a"
             ],
             [
              0.8888888888888888,
              "#fdca26"
             ],
             [
              1,
              "#f0f921"
             ]
            ],
            "type": "histogram2dcontour"
           }
          ],
          "mesh3d": [
           {
            "colorbar": {
             "outlinewidth": 0,
             "ticks": ""
            },
            "type": "mesh3d"
           }
          ],
          "parcoords": [
           {
            "line": {
             "colorbar": {
              "outlinewidth": 0,
              "ticks": ""
             }
            },
            "type": "parcoords"
           }
          ],
          "pie": [
           {
            "automargin": true,
            "type": "pie"
           }
          ],
          "scatter": [
           {
            "fillpattern": {
             "fillmode": "overlay",
             "size": 10,
             "solidity": 0.2
            },
            "type": "scatter"
           }
          ],
          "scatter3d": [
           {
            "line": {
             "colorbar": {
              "outlinewidth": 0,
              "ticks": ""
             }
            },
            "marker": {
             "colorbar": {
              "outlinewidth": 0,
              "ticks": ""
             }
            },
            "type": "scatter3d"
           }
          ],
          "scattercarpet": [
           {
            "marker": {
             "colorbar": {
              "outlinewidth": 0,
              "ticks": ""
             }
            },
            "type": "scattercarpet"
           }
          ],
          "scattergeo": [
           {
            "marker": {
             "colorbar": {
              "outlinewidth": 0,
              "ticks": ""
             }
            },
            "type": "scattergeo"
           }
          ],
          "scattergl": [
           {
            "marker": {
             "colorbar": {
              "outlinewidth": 0,
              "ticks": ""
             }
            },
            "type": "scattergl"
           }
          ],
          "scattermapbox": [
           {
            "marker": {
             "colorbar": {
              "outlinewidth": 0,
              "ticks": ""
             }
            },
            "type": "scattermapbox"
           }
          ],
          "scatterpolar": [
           {
            "marker": {
             "colorbar": {
              "outlinewidth": 0,
              "ticks": ""
             }
            },
            "type": "scatterpolar"
           }
          ],
          "scatterpolargl": [
           {
            "marker": {
             "colorbar": {
              "outlinewidth": 0,
              "ticks": ""
             }
            },
            "type": "scatterpolargl"
           }
          ],
          "scatterternary": [
           {
            "marker": {
             "colorbar": {
              "outlinewidth": 0,
              "ticks": ""
             }
            },
            "type": "scatterternary"
           }
          ],
          "surface": [
           {
            "colorbar": {
             "outlinewidth": 0,
             "ticks": ""
            },
            "colorscale": [
             [
              0,
              "#0d0887"
             ],
             [
              0.1111111111111111,
              "#46039f"
             ],
             [
              0.2222222222222222,
              "#7201a8"
             ],
             [
              0.3333333333333333,
              "#9c179e"
             ],
             [
              0.4444444444444444,
              "#bd3786"
             ],
             [
              0.5555555555555556,
              "#d8576b"
             ],
             [
              0.6666666666666666,
              "#ed7953"
             ],
             [
              0.7777777777777778,
              "#fb9f3a"
             ],
             [
              0.8888888888888888,
              "#fdca26"
             ],
             [
              1,
              "#f0f921"
             ]
            ],
            "type": "surface"
           }
          ],
          "table": [
           {
            "cells": {
             "fill": {
              "color": "#EBF0F8"
             },
             "line": {
              "color": "white"
             }
            },
            "header": {
             "fill": {
              "color": "#C8D4E3"
             },
             "line": {
              "color": "white"
             }
            },
            "type": "table"
           }
          ]
         },
         "layout": {
          "annotationdefaults": {
           "arrowcolor": "#2a3f5f",
           "arrowhead": 0,
           "arrowwidth": 1
          },
          "autotypenumbers": "strict",
          "coloraxis": {
           "colorbar": {
            "outlinewidth": 0,
            "ticks": ""
           }
          },
          "colorscale": {
           "diverging": [
            [
             0,
             "#8e0152"
            ],
            [
             0.1,
             "#c51b7d"
            ],
            [
             0.2,
             "#de77ae"
            ],
            [
             0.3,
             "#f1b6da"
            ],
            [
             0.4,
             "#fde0ef"
            ],
            [
             0.5,
             "#f7f7f7"
            ],
            [
             0.6,
             "#e6f5d0"
            ],
            [
             0.7,
             "#b8e186"
            ],
            [
             0.8,
             "#7fbc41"
            ],
            [
             0.9,
             "#4d9221"
            ],
            [
             1,
             "#276419"
            ]
           ],
           "sequential": [
            [
             0,
             "#0d0887"
            ],
            [
             0.1111111111111111,
             "#46039f"
            ],
            [
             0.2222222222222222,
             "#7201a8"
            ],
            [
             0.3333333333333333,
             "#9c179e"
            ],
            [
             0.4444444444444444,
             "#bd3786"
            ],
            [
             0.5555555555555556,
             "#d8576b"
            ],
            [
             0.6666666666666666,
             "#ed7953"
            ],
            [
             0.7777777777777778,
             "#fb9f3a"
            ],
            [
             0.8888888888888888,
             "#fdca26"
            ],
            [
             1,
             "#f0f921"
            ]
           ],
           "sequentialminus": [
            [
             0,
             "#0d0887"
            ],
            [
             0.1111111111111111,
             "#46039f"
            ],
            [
             0.2222222222222222,
             "#7201a8"
            ],
            [
             0.3333333333333333,
             "#9c179e"
            ],
            [
             0.4444444444444444,
             "#bd3786"
            ],
            [
             0.5555555555555556,
             "#d8576b"
            ],
            [
             0.6666666666666666,
             "#ed7953"
            ],
            [
             0.7777777777777778,
             "#fb9f3a"
            ],
            [
             0.8888888888888888,
             "#fdca26"
            ],
            [
             1,
             "#f0f921"
            ]
           ]
          },
          "colorway": [
           "#636efa",
           "#EF553B",
           "#00cc96",
           "#ab63fa",
           "#FFA15A",
           "#19d3f3",
           "#FF6692",
           "#B6E880",
           "#FF97FF",
           "#FECB52"
          ],
          "font": {
           "color": "#2a3f5f"
          },
          "geo": {
           "bgcolor": "white",
           "lakecolor": "white",
           "landcolor": "#E5ECF6",
           "showlakes": true,
           "showland": true,
           "subunitcolor": "white"
          },
          "hoverlabel": {
           "align": "left"
          },
          "hovermode": "closest",
          "mapbox": {
           "style": "light"
          },
          "paper_bgcolor": "white",
          "plot_bgcolor": "#E5ECF6",
          "polar": {
           "angularaxis": {
            "gridcolor": "white",
            "linecolor": "white",
            "ticks": ""
           },
           "bgcolor": "#E5ECF6",
           "radialaxis": {
            "gridcolor": "white",
            "linecolor": "white",
            "ticks": ""
           }
          },
          "scene": {
           "xaxis": {
            "backgroundcolor": "#E5ECF6",
            "gridcolor": "white",
            "gridwidth": 2,
            "linecolor": "white",
            "showbackground": true,
            "ticks": "",
            "zerolinecolor": "white"
           },
           "yaxis": {
            "backgroundcolor": "#E5ECF6",
            "gridcolor": "white",
            "gridwidth": 2,
            "linecolor": "white",
            "showbackground": true,
            "ticks": "",
            "zerolinecolor": "white"
           },
           "zaxis": {
            "backgroundcolor": "#E5ECF6",
            "gridcolor": "white",
            "gridwidth": 2,
            "linecolor": "white",
            "showbackground": true,
            "ticks": "",
            "zerolinecolor": "white"
           }
          },
          "shapedefaults": {
           "line": {
            "color": "#2a3f5f"
           }
          },
          "ternary": {
           "aaxis": {
            "gridcolor": "white",
            "linecolor": "white",
            "ticks": ""
           },
           "baxis": {
            "gridcolor": "white",
            "linecolor": "white",
            "ticks": ""
           },
           "bgcolor": "#E5ECF6",
           "caxis": {
            "gridcolor": "white",
            "linecolor": "white",
            "ticks": ""
           }
          },
          "title": {
           "x": 0.05
          },
          "xaxis": {
           "automargin": true,
           "gridcolor": "white",
           "linecolor": "white",
           "ticks": "",
           "title": {
            "standoff": 15
           },
           "zerolinecolor": "white",
           "zerolinewidth": 2
          },
          "yaxis": {
           "automargin": true,
           "gridcolor": "white",
           "linecolor": "white",
           "ticks": "",
           "title": {
            "standoff": 15
           },
           "zerolinecolor": "white",
           "zerolinewidth": 2
          }
         }
        },
        "title": {
         "text": "East vs West Sigmoid Function Score"
        },
        "xaxis": {
         "anchor": "y",
         "domain": [
          0,
          1
         ],
         "title": {
          "text": "East vs West"
         }
        },
        "yaxis": {
         "anchor": "x",
         "domain": [
          0,
          1
         ],
         "title": {
          "text": "Sigmoid Function Score"
         }
        }
       }
      }
     },
     "metadata": {},
     "output_type": "display_data"
    }
   ],
   "source": [
    "# plot using plotly express\n",
    "fig = px.box(sig, x='east_west', y='final_score_zsum', points='all')\n",
    "fig.update_traces(marker=dict(color='blue'))\n",
    "fig.update_traces(line=dict(color='darkblue'))\n",
    "fig.update_xaxes(title_text='East vs West')\n",
    "fig.update_yaxes(title_text='Sigmoid Function Score')\n",
    "fig.update_layout(title='East vs West Sigmoid Function Score')\n",
    "fig.update_traces(hovertemplate='East/West: %{x}<br>Sigmoid Function Score: %{y:.3f}')\n",
    "fig.show()"
   ]
  },
  {
   "cell_type": "markdown",
   "id": "1dedf4f9",
   "metadata": {},
   "source": [
    "The two boxplots show the distribution of the sigmoid function score for the east and west regions of Sydney. The non-significant result becomes evident when observing the similarity in the distribution of scores between the two groups. "
   ]
  }
 ],
 "metadata": {
  "kernelspec": {
   "display_name": "Python 3 (ipykernel)",
   "language": "python",
   "name": "python3"
  },
  "language_info": {
   "codemirror_mode": {
    "name": "ipython",
    "version": 3
   },
   "file_extension": ".py",
   "mimetype": "text/x-python",
   "name": "python",
   "nbconvert_exporter": "python",
   "pygments_lexer": "ipython3",
   "version": "3.12.3"
  }
 },
 "nbformat": 4,
 "nbformat_minor": 5
}
