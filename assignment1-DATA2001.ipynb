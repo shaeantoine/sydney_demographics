{
 "cells": [
  {
   "cell_type": "code",
   "execution_count": 1,
   "id": "7536ae8c",
   "metadata": {},
   "outputs": [],
   "source": [
    "import os\n",
    "import pandas as pd"
   ]
  },
  {
   "cell_type": "code",
   "execution_count": 66,
   "id": "d74908e5",
   "metadata": {},
   "outputs": [],
   "source": [
    "business = pd.read_csv(os.getcwd()+'/data/Businesses.csv')"
   ]
  },
  {
   "cell_type": "code",
   "execution_count": 23,
   "id": "77d8157c",
   "metadata": {},
   "outputs": [],
   "source": [
    "income = pd.read_csv(os.getcwd()+'/data/Income.csv')"
   ]
  },
  {
   "cell_type": "code",
   "execution_count": 24,
   "id": "3e174c4d",
   "metadata": {},
   "outputs": [],
   "source": [
    "polling = pd.read_csv(os.getcwd()+'/data/PollingPlaces2019.csv')"
   ]
  },
  {
   "cell_type": "code",
   "execution_count": 25,
   "id": "020bced8",
   "metadata": {},
   "outputs": [],
   "source": [
    "population = pd.read_csv(os.getcwd()+'/data/Population.csv')"
   ]
  },
  {
   "cell_type": "code",
   "execution_count": 26,
   "id": "554df0d5",
   "metadata": {},
   "outputs": [],
   "source": [
    "stops = pd.read_csv(os.getcwd()+'/data/Stops.txt')"
   ]
  },
  {
   "cell_type": "markdown",
   "id": "7eb34011",
   "metadata": {},
   "source": [
    "\n",
    "# Data Cleaning and Exploration\n",
    "\n",
    "Below is an exploration of the imported data sets for features and imperfections"
   ]
  },
  {
   "cell_type": "code",
   "execution_count": 67,
   "id": "b71f8641",
   "metadata": {},
   "outputs": [
    {
     "data": {
      "text/plain": [
       "(12217, 11)"
      ]
     },
     "execution_count": 67,
     "metadata": {},
     "output_type": "execute_result"
    }
   ],
   "source": [
    "business.shape"
   ]
  },
  {
   "cell_type": "code",
   "execution_count": 75,
   "id": "348ff6ad",
   "metadata": {},
   "outputs": [
    {
     "data": {
      "text/html": [
       "<div>\n",
       "<style scoped>\n",
       "    .dataframe tbody tr th:only-of-type {\n",
       "        vertical-align: middle;\n",
       "    }\n",
       "\n",
       "    .dataframe tbody tr th {\n",
       "        vertical-align: top;\n",
       "    }\n",
       "\n",
       "    .dataframe thead th {\n",
       "        text-align: right;\n",
       "    }\n",
       "</style>\n",
       "<table border=\"1\" class=\"dataframe\">\n",
       "  <thead>\n",
       "    <tr style=\"text-align: right;\">\n",
       "      <th></th>\n",
       "      <th>industry_code</th>\n",
       "      <th>industry_name</th>\n",
       "      <th>sa2_code</th>\n",
       "      <th>sa2_name</th>\n",
       "      <th>0_to_50k_businesses</th>\n",
       "      <th>50k_to_200k_businesses</th>\n",
       "      <th>200k_to_2m_businesses</th>\n",
       "      <th>2m_to_5m_businesses</th>\n",
       "      <th>5m_to_10m_businesses</th>\n",
       "      <th>10m_or_more_businesses</th>\n",
       "      <th>total_businesses</th>\n",
       "    </tr>\n",
       "  </thead>\n",
       "  <tbody>\n",
       "    <tr>\n",
       "      <th>0</th>\n",
       "      <td>A</td>\n",
       "      <td>Agriculture, Forestry and Fishing</td>\n",
       "      <td>101021007</td>\n",
       "      <td>Braidwood</td>\n",
       "      <td>136</td>\n",
       "      <td>92</td>\n",
       "      <td>63</td>\n",
       "      <td>4</td>\n",
       "      <td>0</td>\n",
       "      <td>0</td>\n",
       "      <td>296</td>\n",
       "    </tr>\n",
       "    <tr>\n",
       "      <th>1</th>\n",
       "      <td>A</td>\n",
       "      <td>Agriculture, Forestry and Fishing</td>\n",
       "      <td>101021008</td>\n",
       "      <td>Karabar</td>\n",
       "      <td>6</td>\n",
       "      <td>3</td>\n",
       "      <td>0</td>\n",
       "      <td>0</td>\n",
       "      <td>0</td>\n",
       "      <td>0</td>\n",
       "      <td>9</td>\n",
       "    </tr>\n",
       "    <tr>\n",
       "      <th>2</th>\n",
       "      <td>A</td>\n",
       "      <td>Agriculture, Forestry and Fishing</td>\n",
       "      <td>101021009</td>\n",
       "      <td>Queanbeyan</td>\n",
       "      <td>6</td>\n",
       "      <td>4</td>\n",
       "      <td>3</td>\n",
       "      <td>0</td>\n",
       "      <td>0</td>\n",
       "      <td>3</td>\n",
       "      <td>15</td>\n",
       "    </tr>\n",
       "    <tr>\n",
       "      <th>3</th>\n",
       "      <td>A</td>\n",
       "      <td>Agriculture, Forestry and Fishing</td>\n",
       "      <td>101021010</td>\n",
       "      <td>Queanbeyan - East</td>\n",
       "      <td>0</td>\n",
       "      <td>3</td>\n",
       "      <td>0</td>\n",
       "      <td>0</td>\n",
       "      <td>0</td>\n",
       "      <td>0</td>\n",
       "      <td>3</td>\n",
       "    </tr>\n",
       "    <tr>\n",
       "      <th>4</th>\n",
       "      <td>A</td>\n",
       "      <td>Agriculture, Forestry and Fishing</td>\n",
       "      <td>101021012</td>\n",
       "      <td>Queanbeyan West - Jerrabomberra</td>\n",
       "      <td>7</td>\n",
       "      <td>4</td>\n",
       "      <td>5</td>\n",
       "      <td>0</td>\n",
       "      <td>0</td>\n",
       "      <td>0</td>\n",
       "      <td>16</td>\n",
       "    </tr>\n",
       "    <tr>\n",
       "      <th>...</th>\n",
       "      <td>...</td>\n",
       "      <td>...</td>\n",
       "      <td>...</td>\n",
       "      <td>...</td>\n",
       "      <td>...</td>\n",
       "      <td>...</td>\n",
       "      <td>...</td>\n",
       "      <td>...</td>\n",
       "      <td>...</td>\n",
       "      <td>...</td>\n",
       "      <td>...</td>\n",
       "    </tr>\n",
       "    <tr>\n",
       "      <th>12212</th>\n",
       "      <td>S</td>\n",
       "      <td>Other Services</td>\n",
       "      <td>128021538</td>\n",
       "      <td>Sutherland - Kirrawee</td>\n",
       "      <td>21</td>\n",
       "      <td>66</td>\n",
       "      <td>58</td>\n",
       "      <td>3</td>\n",
       "      <td>3</td>\n",
       "      <td>0</td>\n",
       "      <td>152</td>\n",
       "    </tr>\n",
       "    <tr>\n",
       "      <th>12213</th>\n",
       "      <td>S</td>\n",
       "      <td>Other Services</td>\n",
       "      <td>128021607</td>\n",
       "      <td>Engadine</td>\n",
       "      <td>13</td>\n",
       "      <td>41</td>\n",
       "      <td>31</td>\n",
       "      <td>3</td>\n",
       "      <td>0</td>\n",
       "      <td>0</td>\n",
       "      <td>87</td>\n",
       "    </tr>\n",
       "    <tr>\n",
       "      <th>12214</th>\n",
       "      <td>S</td>\n",
       "      <td>Other Services</td>\n",
       "      <td>128021608</td>\n",
       "      <td>Loftus - Yarrawarrah</td>\n",
       "      <td>0</td>\n",
       "      <td>10</td>\n",
       "      <td>10</td>\n",
       "      <td>0</td>\n",
       "      <td>0</td>\n",
       "      <td>0</td>\n",
       "      <td>22</td>\n",
       "    </tr>\n",
       "    <tr>\n",
       "      <th>12215</th>\n",
       "      <td>S</td>\n",
       "      <td>Other Services</td>\n",
       "      <td>128021609</td>\n",
       "      <td>Woronora Heights</td>\n",
       "      <td>0</td>\n",
       "      <td>3</td>\n",
       "      <td>5</td>\n",
       "      <td>0</td>\n",
       "      <td>0</td>\n",
       "      <td>0</td>\n",
       "      <td>9</td>\n",
       "    </tr>\n",
       "    <tr>\n",
       "      <th>12216</th>\n",
       "      <td>S</td>\n",
       "      <td>Other Services</td>\n",
       "      <td>199999499</td>\n",
       "      <td>Currently Unknown</td>\n",
       "      <td>32</td>\n",
       "      <td>74</td>\n",
       "      <td>58</td>\n",
       "      <td>11</td>\n",
       "      <td>0</td>\n",
       "      <td>14</td>\n",
       "      <td>190</td>\n",
       "    </tr>\n",
       "  </tbody>\n",
       "</table>\n",
       "<p>12217 rows × 11 columns</p>\n",
       "</div>"
      ],
      "text/plain": [
       "      industry_code                      industry_name   sa2_code  \\\n",
       "0                 A  Agriculture, Forestry and Fishing  101021007   \n",
       "1                 A  Agriculture, Forestry and Fishing  101021008   \n",
       "2                 A  Agriculture, Forestry and Fishing  101021009   \n",
       "3                 A  Agriculture, Forestry and Fishing  101021010   \n",
       "4                 A  Agriculture, Forestry and Fishing  101021012   \n",
       "...             ...                                ...        ...   \n",
       "12212             S                     Other Services  128021538   \n",
       "12213             S                     Other Services  128021607   \n",
       "12214             S                     Other Services  128021608   \n",
       "12215             S                     Other Services  128021609   \n",
       "12216             S                     Other Services  199999499   \n",
       "\n",
       "                              sa2_name  0_to_50k_businesses  \\\n",
       "0                            Braidwood                  136   \n",
       "1                              Karabar                    6   \n",
       "2                           Queanbeyan                    6   \n",
       "3                    Queanbeyan - East                    0   \n",
       "4      Queanbeyan West - Jerrabomberra                    7   \n",
       "...                                ...                  ...   \n",
       "12212            Sutherland - Kirrawee                   21   \n",
       "12213                         Engadine                   13   \n",
       "12214             Loftus - Yarrawarrah                    0   \n",
       "12215                 Woronora Heights                    0   \n",
       "12216                Currently Unknown                   32   \n",
       "\n",
       "       50k_to_200k_businesses  200k_to_2m_businesses  2m_to_5m_businesses  \\\n",
       "0                          92                     63                    4   \n",
       "1                           3                      0                    0   \n",
       "2                           4                      3                    0   \n",
       "3                           3                      0                    0   \n",
       "4                           4                      5                    0   \n",
       "...                       ...                    ...                  ...   \n",
       "12212                      66                     58                    3   \n",
       "12213                      41                     31                    3   \n",
       "12214                      10                     10                    0   \n",
       "12215                       3                      5                    0   \n",
       "12216                      74                     58                   11   \n",
       "\n",
       "       5m_to_10m_businesses  10m_or_more_businesses  total_businesses  \n",
       "0                         0                       0               296  \n",
       "1                         0                       0                 9  \n",
       "2                         0                       3                15  \n",
       "3                         0                       0                 3  \n",
       "4                         0                       0                16  \n",
       "...                     ...                     ...               ...  \n",
       "12212                     3                       0               152  \n",
       "12213                     0                       0                87  \n",
       "12214                     0                       0                22  \n",
       "12215                     0                       0                 9  \n",
       "12216                     0                      14               190  \n",
       "\n",
       "[12217 rows x 11 columns]"
      ]
     },
     "execution_count": 75,
     "metadata": {},
     "output_type": "execute_result"
    }
   ],
   "source": [
    "business"
   ]
  },
  {
   "cell_type": "code",
   "execution_count": 65,
   "id": "970a2007",
   "metadata": {},
   "outputs": [
    {
     "data": {
      "text/plain": [
       "(642, 6)"
      ]
     },
     "execution_count": 65,
     "metadata": {},
     "output_type": "execute_result"
    }
   ],
   "source": [
    "income.shape"
   ]
  },
  {
   "cell_type": "code",
   "execution_count": 74,
   "id": "63ce9e46",
   "metadata": {},
   "outputs": [
    {
     "data": {
      "text/html": [
       "<div>\n",
       "<style scoped>\n",
       "    .dataframe tbody tr th:only-of-type {\n",
       "        vertical-align: middle;\n",
       "    }\n",
       "\n",
       "    .dataframe tbody tr th {\n",
       "        vertical-align: top;\n",
       "    }\n",
       "\n",
       "    .dataframe thead th {\n",
       "        text-align: right;\n",
       "    }\n",
       "</style>\n",
       "<table border=\"1\" class=\"dataframe\">\n",
       "  <thead>\n",
       "    <tr style=\"text-align: right;\">\n",
       "      <th></th>\n",
       "      <th>sa2_code21</th>\n",
       "      <th>sa2_name</th>\n",
       "      <th>earners</th>\n",
       "      <th>median_age</th>\n",
       "      <th>median_income</th>\n",
       "      <th>mean_income</th>\n",
       "    </tr>\n",
       "  </thead>\n",
       "  <tbody>\n",
       "    <tr>\n",
       "      <th>0</th>\n",
       "      <td>101021007</td>\n",
       "      <td>Braidwood</td>\n",
       "      <td>2467</td>\n",
       "      <td>51</td>\n",
       "      <td>46640</td>\n",
       "      <td>68904</td>\n",
       "    </tr>\n",
       "    <tr>\n",
       "      <th>1</th>\n",
       "      <td>101021008</td>\n",
       "      <td>Karabar</td>\n",
       "      <td>5103</td>\n",
       "      <td>42</td>\n",
       "      <td>65564</td>\n",
       "      <td>69672</td>\n",
       "    </tr>\n",
       "    <tr>\n",
       "      <th>2</th>\n",
       "      <td>101021009</td>\n",
       "      <td>Queanbeyan</td>\n",
       "      <td>7028</td>\n",
       "      <td>39</td>\n",
       "      <td>63528</td>\n",
       "      <td>69174</td>\n",
       "    </tr>\n",
       "    <tr>\n",
       "      <th>3</th>\n",
       "      <td>101021010</td>\n",
       "      <td>Queanbeyan - East</td>\n",
       "      <td>3398</td>\n",
       "      <td>39</td>\n",
       "      <td>66148</td>\n",
       "      <td>74162</td>\n",
       "    </tr>\n",
       "    <tr>\n",
       "      <th>4</th>\n",
       "      <td>101021012</td>\n",
       "      <td>Queanbeyan West - Jerrabomberra</td>\n",
       "      <td>8422</td>\n",
       "      <td>44</td>\n",
       "      <td>78630</td>\n",
       "      <td>91981</td>\n",
       "    </tr>\n",
       "    <tr>\n",
       "      <th>...</th>\n",
       "      <td>...</td>\n",
       "      <td>...</td>\n",
       "      <td>...</td>\n",
       "      <td>...</td>\n",
       "      <td>...</td>\n",
       "      <td>...</td>\n",
       "    </tr>\n",
       "    <tr>\n",
       "      <th>637</th>\n",
       "      <td>128021537</td>\n",
       "      <td>Royal National Park</td>\n",
       "      <td>14</td>\n",
       "      <td>37</td>\n",
       "      <td>36980</td>\n",
       "      <td>47584</td>\n",
       "    </tr>\n",
       "    <tr>\n",
       "      <th>638</th>\n",
       "      <td>128021538</td>\n",
       "      <td>Sutherland - Kirrawee</td>\n",
       "      <td>13895</td>\n",
       "      <td>41</td>\n",
       "      <td>64940</td>\n",
       "      <td>74867</td>\n",
       "    </tr>\n",
       "    <tr>\n",
       "      <th>639</th>\n",
       "      <td>128021607</td>\n",
       "      <td>Engadine</td>\n",
       "      <td>10239</td>\n",
       "      <td>43</td>\n",
       "      <td>63695</td>\n",
       "      <td>72995</td>\n",
       "    </tr>\n",
       "    <tr>\n",
       "      <th>640</th>\n",
       "      <td>128021608</td>\n",
       "      <td>Loftus - Yarrawarrah</td>\n",
       "      <td>4424</td>\n",
       "      <td>45</td>\n",
       "      <td>63087</td>\n",
       "      <td>76440</td>\n",
       "    </tr>\n",
       "    <tr>\n",
       "      <th>641</th>\n",
       "      <td>128021609</td>\n",
       "      <td>Woronora Heights</td>\n",
       "      <td>2491</td>\n",
       "      <td>47</td>\n",
       "      <td>65460</td>\n",
       "      <td>82717</td>\n",
       "    </tr>\n",
       "  </tbody>\n",
       "</table>\n",
       "<p>642 rows × 6 columns</p>\n",
       "</div>"
      ],
      "text/plain": [
       "     sa2_code21                         sa2_name earners median_age  \\\n",
       "0     101021007                        Braidwood    2467         51   \n",
       "1     101021008                          Karabar    5103         42   \n",
       "2     101021009                       Queanbeyan    7028         39   \n",
       "3     101021010                Queanbeyan - East    3398         39   \n",
       "4     101021012  Queanbeyan West - Jerrabomberra    8422         44   \n",
       "..          ...                              ...     ...        ...   \n",
       "637   128021537              Royal National Park      14         37   \n",
       "638   128021538            Sutherland - Kirrawee   13895         41   \n",
       "639   128021607                         Engadine   10239         43   \n",
       "640   128021608             Loftus - Yarrawarrah    4424         45   \n",
       "641   128021609                 Woronora Heights    2491         47   \n",
       "\n",
       "    median_income mean_income  \n",
       "0           46640       68904  \n",
       "1           65564       69672  \n",
       "2           63528       69174  \n",
       "3           66148       74162  \n",
       "4           78630       91981  \n",
       "..            ...         ...  \n",
       "637         36980       47584  \n",
       "638         64940       74867  \n",
       "639         63695       72995  \n",
       "640         63087       76440  \n",
       "641         65460       82717  \n",
       "\n",
       "[642 rows x 6 columns]"
      ]
     },
     "execution_count": 74,
     "metadata": {},
     "output_type": "execute_result"
    }
   ],
   "source": [
    "income"
   ]
  },
  {
   "cell_type": "code",
   "execution_count": 62,
   "id": "b3aded4b",
   "metadata": {},
   "outputs": [
    {
     "data": {
      "text/plain": [
       "(2930, 17)"
      ]
     },
     "execution_count": 62,
     "metadata": {},
     "output_type": "execute_result"
    }
   ],
   "source": [
    "polling.shape"
   ]
  },
  {
   "cell_type": "code",
   "execution_count": 63,
   "id": "f27d344d",
   "metadata": {},
   "outputs": [
    {
     "data": {
      "text/plain": [
       "(373, 21)"
      ]
     },
     "execution_count": 63,
     "metadata": {},
     "output_type": "execute_result"
    }
   ],
   "source": [
    "population.shape"
   ]
  },
  {
   "cell_type": "code",
   "execution_count": 64,
   "id": "e9cd6d06",
   "metadata": {},
   "outputs": [
    {
     "data": {
      "text/plain": [
       "(114718, 9)"
      ]
     },
     "execution_count": 64,
     "metadata": {},
     "output_type": "execute_result"
    }
   ],
   "source": [
    "stops.shape"
   ]
  },
  {
   "cell_type": "code",
   "execution_count": 40,
   "id": "29d3b480",
   "metadata": {},
   "outputs": [
    {
     "name": "stdout",
     "output_type": "stream",
     "text": [
      "stop_id                                   G232163\n",
      "stop_code                                     NaN\n",
      "stop_name              Morpeth Rd Near Raworth Av\n",
      "stop_lat                               -32.726616\n",
      "stop_lon                               151.613898\n",
      "location_type                                 1.0\n",
      "parent_station                                NaN\n",
      "wheelchair_boarding                             0\n",
      "platform_code                                 NaN\n",
      "Name: 50000, dtype: object\n"
     ]
    }
   ],
   "source": [
    "nan_count = stops[specific_column].isna().sum()\n",
    "\n",
    "print(stops.iloc[50000])"
   ]
  }
 ],
 "metadata": {
  "kernelspec": {
   "display_name": "Python 3",
   "language": "python",
   "name": "python3"
  },
  "language_info": {
   "codemirror_mode": {
    "name": "ipython",
    "version": 3
   },
   "file_extension": ".py",
   "mimetype": "text/x-python",
   "name": "python",
   "nbconvert_exporter": "python",
   "pygments_lexer": "ipython3",
   "version": "3.8.8"
  }
 },
 "nbformat": 4,
 "nbformat_minor": 5
}
