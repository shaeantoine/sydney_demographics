{
 "cells": [
  {
   "cell_type": "markdown",
   "id": "4417c2f4-8a59-4676-9724-e12056a5b614",
   "metadata": {},
   "source": [
    "# Coefficient Analysis"
   ]
  },
  {
   "cell_type": "markdown",
   "id": "b4a91fd2-d168-4fdc-af66-9217aa4b9927",
   "metadata": {},
   "source": [
    "### Making Income table"
   ]
  },
  {
   "cell_type": "code",
   "execution_count": null,
   "id": "62d2184b-4381-48fd-8996-c0aee559bc9e",
   "metadata": {},
   "outputs": [],
   "source": [
    "conn.execute(\"\"\"\n",
    "-- DROP TABLE IF EXISTS Income;\n",
    "CREATE TABLE Income(\n",
    "    sa2_code21 integer,\n",
    "    sa2_name21 character varying COLLATE pg_catalog.\"default\",\n",
    "    earners integer,\n",
    "    median_age integer,\n",
    "    median_income integer,\n",
    "    mean_income integer\n",
    ");\"\"\"\n",
    ") "
   ]
  },
  {
   "cell_type": "code",
   "execution_count": null,
   "id": "d429b7d0-7ff5-4b2f-8d4a-55fe1ec374a5",
   "metadata": {},
   "outputs": [],
   "source": [
    "Income.to_sql('Income', conn, if_exists='append', index=False)  # Note: Change the csv file name to what you have"
   ]
  },
  {
   "cell_type": "markdown",
   "id": "749f004a-58d5-4567-9500-4d7766ebe3bb",
   "metadata": {},
   "source": [
    "### Joining Income table to sigmoid Function table"
   ]
  },
  {
   "cell_type": "code",
   "execution_count": null,
   "id": "8560a3db-38b4-4cb8-b03c-4cc67215486a",
   "metadata": {},
   "outputs": [],
   "source": [
    "sql = \"\"\"\n",
    "CREATE TABLE \"Assignment\".Join_SFI AS\n",
    "SELECT\n",
    "    S.sa2_code21,\n",
    "    S.sa2_name21,\n",
    "    S.stop_count_zscore,\n",
    "    S.school_area_1000_zscore,\n",
    "    S.polling_count_zscore,\n",
    "    S.total_businesses_zscore,\n",
    "    S.total_median_zscore,\n",
    "    S.school_enrollment_count_zscore,\n",
    "    S.incidents_count_zscore,\n",
    "    S.final_score_zsum,\n",
    "    I.median_income\n",
    "FROM\n",
    "    Sigmoid S\n",
    "JOIN\n",
    "    Income I\n",
    "ON\n",
    "    S.sa2_name21 = I.sa2_name21;\n",
    "\"\"\"\n",
    "complete_query = query(conn, sql)"
   ]
  },
  {
   "cell_type": "markdown",
   "id": "94fc6ea4-4f65-43a8-bf56-531f1e09e50d",
   "metadata": {},
   "source": [
    "#### Don't forget to change the table names to what you have"
   ]
  },
  {
   "cell_type": "code",
   "execution_count": null,
   "id": "345b3ac6-f0f7-47e0-b466-fd21f8de8ef2",
   "metadata": {},
   "outputs": [],
   "source": []
  },
  {
   "cell_type": "markdown",
   "id": "5787d27e-375d-4de1-8bd2-2a1fa91344a1",
   "metadata": {},
   "source": [
    "### Finding Correlation Coefficient"
   ]
  },
  {
   "cell_type": "code",
   "execution_count": null,
   "id": "63ab3538-24c1-4a35-be43-f1606af32958",
   "metadata": {},
   "outputs": [],
   "source": [
    "sql = \"\"\"\n",
    "SELECT\n",
    "    corr(final_score_zsum, median_income) AS correlation_coefficient\n",
    "FROM\n",
    "    Join_SFI;\n",
    "\"\"\"\n",
    "complete_query = query(conn, sql)"
   ]
  },
  {
   "cell_type": "code",
   "execution_count": null,
   "id": "654acbee-fa17-4cab-9b2c-179efff31301",
   "metadata": {},
   "outputs": [],
   "source": []
  },
  {
   "cell_type": "markdown",
   "id": "b9716838-8c83-4286-80a2-47dd9bc46713",
   "metadata": {},
   "source": [
    "## Cleaning Income csv file"
   ]
  },
  {
   "cell_type": "code",
   "execution_count": 2,
   "id": "d9015b64-18c1-4741-a748-b9bff6a5fdda",
   "metadata": {},
   "outputs": [
    {
     "name": "stdout",
     "output_type": "stream",
     "text": [
      "     sa2_code21                     sa2_name earners median_age median_income  \\\n",
      "28    102011028     Avoca Beach - Copacabana    4749         47         55065   \n",
      "29    102011029  Box Head - MacMasters Beach    6636         49         51927   \n",
      "30    102011030              Calga - Kulnura    2965         49         49168   \n",
      "31    102011031          Erina - Green Point    8010         48         51905   \n",
      "32    102011032        Gosford - Springfield   12051         41         54372   \n",
      "..          ...                          ...     ...        ...           ...   \n",
      "637   128021537          Royal National Park      14         37         36980   \n",
      "638   128021538        Sutherland - Kirrawee   13895         41         64940   \n",
      "639   128021607                     Engadine   10239         43         63695   \n",
      "640   128021608         Loftus - Yarrawarrah    4424         45         63087   \n",
      "641   128021609             Woronora Heights    2491         47         65460   \n",
      "\n",
      "    mean_income  \n",
      "28        77615  \n",
      "29        71509  \n",
      "30        63802  \n",
      "31        71992  \n",
      "32        65283  \n",
      "..          ...  \n",
      "637       47584  \n",
      "638       74867  \n",
      "639       72995  \n",
      "640       76440  \n",
      "641       82717  \n",
      "\n",
      "[368 rows x 6 columns]\n"
     ]
    }
   ],
   "source": [
    "import pandas as pd\n",
    "\n",
    "Income = pd.read_csv(\"/Users/hamzadeen/Downloads/Income.csv\")  #change the filepath to your one :)\n",
    "\n",
    "Sigmoid = pd.read_csv(\"/Users/hamzadeen/Desktop/DATA 2001/Data/fullquery_sig.csv\")  #change the filepath to your one :)\n",
    "\n",
    "sa2_code21 = Sigmoid['sa2_code21'].unique()\n",
    "\n",
    "\n",
    "Cleaned_Income = Income[Income['sa2_code21'].isin(sa2_code21)]\n",
    "\n",
    "print(Cleaned_Income)"
   ]
  },
  {
   "cell_type": "code",
   "execution_count": null,
   "id": "0e89281c-ebe2-435d-95c5-9acfa7f150d6",
   "metadata": {},
   "outputs": [],
   "source": []
  }
 ],
 "metadata": {
  "kernelspec": {
   "display_name": "Python 3 (ipykernel)",
   "language": "python",
   "name": "python3"
  },
  "language_info": {
   "codemirror_mode": {
    "name": "ipython",
    "version": 3
   },
   "file_extension": ".py",
   "mimetype": "text/x-python",
   "name": "python",
   "nbconvert_exporter": "python",
   "pygments_lexer": "ipython3",
   "version": "3.11.7"
  }
 },
 "nbformat": 4,
 "nbformat_minor": 5
}
